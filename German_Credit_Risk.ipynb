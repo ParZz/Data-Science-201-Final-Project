{
  "cells": [
    {
      "cell_type": "markdown",
      "metadata": {
        "id": "view-in-github",
        "colab_type": "text"
      },
      "source": [
        "<a href=\"https://colab.research.google.com/github/ParZz/Data-Science-201-Final-Project/blob/main/German_Credit_Risk.ipynb\" target=\"_parent\"><img src=\"https://colab.research.google.com/assets/colab-badge.svg\" alt=\"Open In Colab\"/></a>"
      ]
    },
    {
      "cell_type": "markdown",
      "metadata": {
        "id": "qhonqeVLMM9E"
      },
      "source": [
        "## **Business Understanding:**"
      ]
    },
    {
      "cell_type": "markdown",
      "metadata": {
        "id": "bKy0bpu1Dces"
      },
      "source": [
        "Credit risk is the possibility of a loss resulting from a borrower's failure to repay a loan or meet contractual obligations. ​​ When people are trying to open a credit account, they are usually evaluated for a bunch of different attributes to determine whether the person is a good or bad credit risk. This decision could ultimately affect how much money the banks can loan them, whether they can reliably pay back their dues, and can affect other aspects of a person’s life. Consumers posing higher credit risks usually end up paying higher interest rates on loans. By carefully analyzing the creditworthiness of potential borrowers, businesses can determine the likelihood that they will repay their loans on time and avoid incurring losses.\n"
      ]
    },
    {
      "cell_type": "markdown",
      "metadata": {
        "id": "8htDcTPQMWEy"
      },
      "source": [
        "\n",
        "Additionally, businesses can use this information to create tailored credit products for specific segments of the population, such as offering lower interest rates for customers with good credit scores or designing credit products specifically for younger customers. By analyzing credit risk, banks could also include setting limits on the amount of credit extended to individual customers, diversifying their portfolio of loans across different industries and customers, or using financial instruments such as credit default swaps to transfer the risk to another party."
      ]
    },
    {
      "cell_type": "markdown",
      "metadata": {
        "id": "KVgANiejMYkK"
      },
      "source": [
        "\n",
        "This can help businesses attract and retain customers, while also mitigating the risks associated with lending. By implementing these strategies, businesses can protect themselves from the potential financial losses that can result from credit defaults. Understanding and managing credit risk means businesses can ensure their financial stability and longevity. \n"
      ]
    },
    {
      "cell_type": "markdown",
      "metadata": {
        "id": "N63lHLAZMaY8"
      },
      "source": [
        "By using this dataset, we’re able to create algorithms for businesses to help determine whether someone is a good credit risk or bad credit risk based on the information provided about their attributes. The attributes this study looked at are: age, sex, job, housing status, checking accounts, savings accounts, credit amount, credit duration, and the purpose of the credit. From this information, banks can have an easier way of managing risk and protecting themselves from the financial and reputational damage that can result from defaults and other credit-related problems."
      ]
    },
    {
      "cell_type": "markdown",
      "metadata": {
        "id": "KYSKGUpfNXQ2"
      },
      "source": [
        "## **Data Understanding:**"
      ]
    },
    {
      "cell_type": "markdown",
      "metadata": {
        "id": "MIioTekxD5ei"
      },
      "source": [
        "This file gives us an overview of the dataset from the [UCI Machine Learning Repository](https://archive.ics.uci.edu/ml/datasets/Statlog+%28German+Credit+Data%29). We'll be looking at a summary table of the data's descriptive statistics(e.g., mean, mode, median, etc.). This summary table will aide us in our data understanding.\n",
        ">\n",
        "There are 21 different attributes in the dataset as described below:\n",
        ">\n",
        "Attribute 1: (qualitative) Status of existing checking account (i.e., salary assignments for at least 1 year)\n",
        "\n",
        "1 : ... < 0 DM\n",
        "\n",
        "2 : 0 <= ... < 200 DM\n",
        "\n",
        "3 : ... >= 200 DM \n",
        "\n",
        "4 : no checking account\n",
        "\n",
        ">\n",
        "\n",
        "Attribute 2: (numerical) Duration in month – number of month that the credit was requested\n",
        "\n",
        ">\n",
        "\n",
        "Attribute 3: (qualitative) Credit history – the past credit history a particular client had on file with the bank\n",
        "\n",
        "1 : no credits taken/ all credits paid back duly\n",
        "\n",
        "2 : all credits at this bank paid back duly\n",
        "\n",
        "3 : existing credits paid back duly till now\n",
        "\n",
        "4 : delay in paying off in the past\n",
        "\n",
        "5 : critical account/ other credits existing (not at this bank)\n",
        "\n",
        ">\n",
        "\n",
        "Attribute 4: (qualitative) Purpose – the purpose of obtaining credit loans for a specific consumption\n",
        "\n",
        "1 : car (new)\n",
        "\n",
        "2 : car (used)\n",
        "\n",
        "3 : furniture/equipment\n",
        "\n",
        "4 : radio/television\n",
        "\n",
        "5 : domestic appliances\n",
        "\n",
        "6 : repairs\n",
        "\n",
        "7 : education\n",
        "\n",
        "8 : (vacation - does not exist?)\n",
        "\n",
        "9 : retraining\n",
        "\n",
        "10 : business\n",
        "\n",
        "11 : others\n",
        "\n",
        ">\n",
        "\n",
        "Attribute 5: (numerical) Credit amount – the current amount of credit held by the client\n",
        "\n",
        ">\n",
        "\n",
        "Attribute 6: (qualitative) Savings account/bonds – current amount on their savings account and/or bonds held by the client\n",
        "\n",
        "1 : ... < 100 DM\n",
        "\n",
        "2 : 100 <= ... < 500 DM\n",
        "\n",
        "3 : 500 <= ... < 1000 DM\n",
        "\n",
        "4 : .. >= 1000 DM\n",
        "\n",
        "5 : unknown/ no savings account\n",
        "\n",
        ">\n",
        "\n",
        "Attribute 7: (qualitative) Present employment since – the employment status (since opened the credit account)\n",
        "\n",
        "0 : unemployed\n",
        "\n",
        "1 : ... < 1 year\n",
        "\n",
        "2 : 1 <= ... < 4 years\n",
        "\n",
        "3 : 4 <= ... < 7 years\n",
        "\n",
        "4 : .. >= 7 years\n",
        "\n",
        ">\n",
        "\n",
        "Attribute 8: (numerical) Installment rate in percentage of disposable income\n",
        "\n",
        ">\n",
        "\n",
        "Attribute 9: (qualitative) Personal status and sex – marritual status and gender identity of the client\n",
        "\n",
        "1 : male : divorced/separated\n",
        "\n",
        "2 : female : divorced/separated/married\n",
        "\n",
        "3 : male : single\n",
        "\n",
        "4 : male : married/widowed\n",
        "\n",
        "5 : female : single\n",
        "\n",
        ">\n",
        "\n",
        "Attribute 10: (qualitative) Other debtors / guarantors – whether the client is the co-applicant or the guarantor of the credit loan\n",
        "\n",
        "0 : none\n",
        "\n",
        "1 : co-applicant\n",
        "\n",
        "2 : guarantor\n",
        "\n",
        ">\n",
        "\n",
        "Attribute 11: (numerical) Present residence since\n",
        "\n",
        ">\n",
        "\n",
        "Attribute 12: (qualitative) Property - Assets Categories \n",
        "\n",
        "1 : real estate\n",
        "\n",
        "2 : if not 1 : building society savings agreement/ life \n",
        "insurance\n",
        "\n",
        "3 : if not 11/2 : car or other, not in attribute 6\n",
        "\n",
        "4 : unknown / no property\n",
        "\n",
        ">\n",
        "\n",
        "Attribute 13: (numerical) Age in years\n",
        "\n",
        ">\n",
        "\n",
        "Attribute 14: (qualitative) Other installment plans\n",
        "\n",
        "1 : bank\n",
        "\n",
        "2 : stores\n",
        "\n",
        "3 : none\n",
        "\n",
        ">\n",
        "\n",
        "Attribute 15: (qualitative) Housing - Housing Status\n",
        "\n",
        "1 : rent\n",
        "\n",
        "2 : own\n",
        "\n",
        "3 : for free\n",
        "\n",
        ">\n",
        "\n",
        "Attribute 16: (numerical) Number of existing credits at this bank\n",
        "\n",
        ">\n",
        "\n",
        "Attribute 17: (qualitative) Job – The level of professionalism \n",
        "\n",
        "0 : unemployed/ unskilled - non-resident\n",
        "\n",
        "1 : unskilled - resident\n",
        "\n",
        "2 : skilled employee / official\n",
        "\n",
        "3 : management/ self-employed/highly qualified employee/ officer\n",
        "\n",
        ">\n",
        "\n",
        "Attribute 18: (numerical) Number of people being liable to provide maintenance for\n",
        "\n",
        ">\n",
        "\n",
        "Attribute 19: (qualitative) Telephone – Check to see if there is any phone number under the individual selected\n",
        "\n",
        "0 : none\n",
        "\n",
        "1 : yes, registered under the customers name\n",
        "\n",
        ">\n",
        "\n",
        "Attribute 20: (qualitative) foreign worker – Workers with other nationalities\n",
        "\n",
        "1 : yes\n",
        "\n",
        "0 : no\n",
        "\n",
        ">\n",
        "\n",
        "Attribute 21: (categorical) Credit risk classification – whether the client is evaluated to be in the good risk category vs. bad risk category \n",
        "\n",
        "0 : Good\n",
        "\n",
        "1 : Bad\n"
      ]
    },
    {
      "cell_type": "markdown",
      "metadata": {
        "id": "kI-kbu-zojyb"
      },
      "source": [
        "**Loading dataset from google drive (German Credit Data)**"
      ]
    },
    {
      "cell_type": "markdown",
      "metadata": {
        "id": "imt0ktEWpk0R"
      },
      "source": [
        "\n",
        "We used Pandas and gdown to retrieve the German Credit Data CSV file which has already been uploaded to a google drive\n",
        "\n",
        "\n"
      ]
    },
    {
      "cell_type": "code",
      "execution_count": null,
      "metadata": {
        "colab": {
          "base_uri": "https://localhost:8080/"
        },
        "id": "mFsgMjgti2j5",
        "outputId": "993d78d2-9fd0-400d-aba0-b21087e2f0b9"
      },
      "outputs": [
        {
          "output_type": "stream",
          "name": "stderr",
          "text": [
            "Downloading...\n",
            "From: https://drive.google.com/uc?id=1FpgZeeoYJIvf3-hl5beNyZpLc0Maq38D\n",
            "To: /content/germancode.xlsx\n",
            "100%|██████████| 75.6k/75.6k [00:00<00:00, 65.6MB/s]\n"
          ]
        }
      ],
      "source": [
        "# get the original data file automatically downloaded for the user\n",
        "import os\n",
        "import io\n",
        "import gdown\n",
        "import pandas as pd\n",
        "import rpy2.robjects as ro\n",
        "from rpy2.robjects.conversion import localconverter\n",
        "from rpy2.robjects import globalenv\n",
        "from rpy2.robjects import pandas2ri\n",
        "from rpy2.robjects.packages import importr\n",
        "\n",
        "url = \"https://drive.google.com/uc?id=1FpgZeeoYJIvf3-hl5beNyZpLc0Maq38D\"\n",
        "output = \"germancode.xlsx\"\n",
        "gdown.download(url, output, quiet=False)\n",
        "\n",
        "path = '/content/germancode.xlsx'\n",
        "\n",
        "germancode = pd.read_excel(path)\n"
      ]
    },
    {
      "cell_type": "markdown",
      "metadata": {
        "id": "FY1oe_QDqRm1"
      },
      "source": [
        "We than looked at both the head and tails of the dataset"
      ]
    },
    {
      "cell_type": "code",
      "execution_count": null,
      "metadata": {
        "colab": {
          "base_uri": "https://localhost:8080/",
          "height": 300
        },
        "id": "hryJgk9Ri_ew",
        "outputId": "5045dbb9-fbc4-4099-f997-234f5caedee1"
      },
      "outputs": [
        {
          "output_type": "execute_result",
          "data": {
            "text/plain": [
              "   Status.of.existing.checking.account  Duration.in.month  Credit.history  \\\n",
              "0                                  1.0                6.0             5.0   \n",
              "1                                  2.0               48.0             3.0   \n",
              "2                                  4.0               12.0             5.0   \n",
              "3                                  1.0                2.0             3.0   \n",
              "4                                  1.0                4.0             4.0   \n",
              "\n",
              "   Purpose  Credit.amount  Savings.account.bonds  Present.employment.since  \\\n",
              "0      4.0         1169.0                    5.0                       4.0   \n",
              "1      4.0         5951.0                    1.0                       2.0   \n",
              "2      7.0         2096.0                    1.0                       3.0   \n",
              "3      3.0         7882.0                    1.0                       3.0   \n",
              "4      1.0         4870.0                    1.0                       2.0   \n",
              "\n",
              "   Installment.rate.in.percentage.of.disposable.income  \\\n",
              "0                                                4.0     \n",
              "1                                                2.0     \n",
              "2                                                2.0     \n",
              "3                                                2.0     \n",
              "4                                                3.0     \n",
              "\n",
              "   Personal.status.and.sex  Other.debtors.guarantors  ...  Property  \\\n",
              "0                      3.0                       0.0  ...       1.0   \n",
              "1                      2.0                       0.0  ...       1.0   \n",
              "2                      3.0                       0.0  ...       1.0   \n",
              "3                      3.0                       2.0  ...       2.0   \n",
              "4                      3.0                       0.0  ...       4.0   \n",
              "\n",
              "   Age.in.years  Other.installment.plans  Housing  \\\n",
              "0          67.0                      3.0      2.0   \n",
              "1          22.0                      3.0      2.0   \n",
              "2          49.0                      3.0      2.0   \n",
              "3          45.0                      3.0      3.0   \n",
              "4          53.0                      3.0      3.0   \n",
              "\n",
              "   Number.of.existing.credits.at.this.bank  Job  \\\n",
              "0                                      2.0  2.0   \n",
              "1                                      1.0  2.0   \n",
              "2                                      1.0  1.0   \n",
              "3                                      1.0  2.0   \n",
              "4                                      2.0  2.0   \n",
              "\n",
              "   Number.of.people.being.liable.to.provide.maintenance.for  Telephone  \\\n",
              "0                                                1.0               1.0   \n",
              "1                                                1.0               0.0   \n",
              "2                                                2.0               0.0   \n",
              "3                                                2.0               0.0   \n",
              "4                                                2.0               0.0   \n",
              "\n",
              "   foreign.worker  risk  \n",
              "0             1.0   1.0  \n",
              "1             1.0   2.0  \n",
              "2             1.0   1.0  \n",
              "3             1.0   1.0  \n",
              "4             1.0   2.0  \n",
              "\n",
              "[5 rows x 21 columns]"
            ],
            "text/html": [
              "\n",
              "  <div id=\"df-3238e9e0-28c5-4352-b44e-115056627e0d\">\n",
              "    <div class=\"colab-df-container\">\n",
              "      <div>\n",
              "<style scoped>\n",
              "    .dataframe tbody tr th:only-of-type {\n",
              "        vertical-align: middle;\n",
              "    }\n",
              "\n",
              "    .dataframe tbody tr th {\n",
              "        vertical-align: top;\n",
              "    }\n",
              "\n",
              "    .dataframe thead th {\n",
              "        text-align: right;\n",
              "    }\n",
              "</style>\n",
              "<table border=\"1\" class=\"dataframe\">\n",
              "  <thead>\n",
              "    <tr style=\"text-align: right;\">\n",
              "      <th></th>\n",
              "      <th>Status.of.existing.checking.account</th>\n",
              "      <th>Duration.in.month</th>\n",
              "      <th>Credit.history</th>\n",
              "      <th>Purpose</th>\n",
              "      <th>Credit.amount</th>\n",
              "      <th>Savings.account.bonds</th>\n",
              "      <th>Present.employment.since</th>\n",
              "      <th>Installment.rate.in.percentage.of.disposable.income</th>\n",
              "      <th>Personal.status.and.sex</th>\n",
              "      <th>Other.debtors.guarantors</th>\n",
              "      <th>...</th>\n",
              "      <th>Property</th>\n",
              "      <th>Age.in.years</th>\n",
              "      <th>Other.installment.plans</th>\n",
              "      <th>Housing</th>\n",
              "      <th>Number.of.existing.credits.at.this.bank</th>\n",
              "      <th>Job</th>\n",
              "      <th>Number.of.people.being.liable.to.provide.maintenance.for</th>\n",
              "      <th>Telephone</th>\n",
              "      <th>foreign.worker</th>\n",
              "      <th>risk</th>\n",
              "    </tr>\n",
              "  </thead>\n",
              "  <tbody>\n",
              "    <tr>\n",
              "      <th>0</th>\n",
              "      <td>1.0</td>\n",
              "      <td>6.0</td>\n",
              "      <td>5.0</td>\n",
              "      <td>4.0</td>\n",
              "      <td>1169.0</td>\n",
              "      <td>5.0</td>\n",
              "      <td>4.0</td>\n",
              "      <td>4.0</td>\n",
              "      <td>3.0</td>\n",
              "      <td>0.0</td>\n",
              "      <td>...</td>\n",
              "      <td>1.0</td>\n",
              "      <td>67.0</td>\n",
              "      <td>3.0</td>\n",
              "      <td>2.0</td>\n",
              "      <td>2.0</td>\n",
              "      <td>2.0</td>\n",
              "      <td>1.0</td>\n",
              "      <td>1.0</td>\n",
              "      <td>1.0</td>\n",
              "      <td>1.0</td>\n",
              "    </tr>\n",
              "    <tr>\n",
              "      <th>1</th>\n",
              "      <td>2.0</td>\n",
              "      <td>48.0</td>\n",
              "      <td>3.0</td>\n",
              "      <td>4.0</td>\n",
              "      <td>5951.0</td>\n",
              "      <td>1.0</td>\n",
              "      <td>2.0</td>\n",
              "      <td>2.0</td>\n",
              "      <td>2.0</td>\n",
              "      <td>0.0</td>\n",
              "      <td>...</td>\n",
              "      <td>1.0</td>\n",
              "      <td>22.0</td>\n",
              "      <td>3.0</td>\n",
              "      <td>2.0</td>\n",
              "      <td>1.0</td>\n",
              "      <td>2.0</td>\n",
              "      <td>1.0</td>\n",
              "      <td>0.0</td>\n",
              "      <td>1.0</td>\n",
              "      <td>2.0</td>\n",
              "    </tr>\n",
              "    <tr>\n",
              "      <th>2</th>\n",
              "      <td>4.0</td>\n",
              "      <td>12.0</td>\n",
              "      <td>5.0</td>\n",
              "      <td>7.0</td>\n",
              "      <td>2096.0</td>\n",
              "      <td>1.0</td>\n",
              "      <td>3.0</td>\n",
              "      <td>2.0</td>\n",
              "      <td>3.0</td>\n",
              "      <td>0.0</td>\n",
              "      <td>...</td>\n",
              "      <td>1.0</td>\n",
              "      <td>49.0</td>\n",
              "      <td>3.0</td>\n",
              "      <td>2.0</td>\n",
              "      <td>1.0</td>\n",
              "      <td>1.0</td>\n",
              "      <td>2.0</td>\n",
              "      <td>0.0</td>\n",
              "      <td>1.0</td>\n",
              "      <td>1.0</td>\n",
              "    </tr>\n",
              "    <tr>\n",
              "      <th>3</th>\n",
              "      <td>1.0</td>\n",
              "      <td>2.0</td>\n",
              "      <td>3.0</td>\n",
              "      <td>3.0</td>\n",
              "      <td>7882.0</td>\n",
              "      <td>1.0</td>\n",
              "      <td>3.0</td>\n",
              "      <td>2.0</td>\n",
              "      <td>3.0</td>\n",
              "      <td>2.0</td>\n",
              "      <td>...</td>\n",
              "      <td>2.0</td>\n",
              "      <td>45.0</td>\n",
              "      <td>3.0</td>\n",
              "      <td>3.0</td>\n",
              "      <td>1.0</td>\n",
              "      <td>2.0</td>\n",
              "      <td>2.0</td>\n",
              "      <td>0.0</td>\n",
              "      <td>1.0</td>\n",
              "      <td>1.0</td>\n",
              "    </tr>\n",
              "    <tr>\n",
              "      <th>4</th>\n",
              "      <td>1.0</td>\n",
              "      <td>4.0</td>\n",
              "      <td>4.0</td>\n",
              "      <td>1.0</td>\n",
              "      <td>4870.0</td>\n",
              "      <td>1.0</td>\n",
              "      <td>2.0</td>\n",
              "      <td>3.0</td>\n",
              "      <td>3.0</td>\n",
              "      <td>0.0</td>\n",
              "      <td>...</td>\n",
              "      <td>4.0</td>\n",
              "      <td>53.0</td>\n",
              "      <td>3.0</td>\n",
              "      <td>3.0</td>\n",
              "      <td>2.0</td>\n",
              "      <td>2.0</td>\n",
              "      <td>2.0</td>\n",
              "      <td>0.0</td>\n",
              "      <td>1.0</td>\n",
              "      <td>2.0</td>\n",
              "    </tr>\n",
              "  </tbody>\n",
              "</table>\n",
              "<p>5 rows × 21 columns</p>\n",
              "</div>\n",
              "      <button class=\"colab-df-convert\" onclick=\"convertToInteractive('df-3238e9e0-28c5-4352-b44e-115056627e0d')\"\n",
              "              title=\"Convert this dataframe to an interactive table.\"\n",
              "              style=\"display:none;\">\n",
              "        \n",
              "  <svg xmlns=\"http://www.w3.org/2000/svg\" height=\"24px\"viewBox=\"0 0 24 24\"\n",
              "       width=\"24px\">\n",
              "    <path d=\"M0 0h24v24H0V0z\" fill=\"none\"/>\n",
              "    <path d=\"M18.56 5.44l.94 2.06.94-2.06 2.06-.94-2.06-.94-.94-2.06-.94 2.06-2.06.94zm-11 1L8.5 8.5l.94-2.06 2.06-.94-2.06-.94L8.5 2.5l-.94 2.06-2.06.94zm10 10l.94 2.06.94-2.06 2.06-.94-2.06-.94-.94-2.06-.94 2.06-2.06.94z\"/><path d=\"M17.41 7.96l-1.37-1.37c-.4-.4-.92-.59-1.43-.59-.52 0-1.04.2-1.43.59L10.3 9.45l-7.72 7.72c-.78.78-.78 2.05 0 2.83L4 21.41c.39.39.9.59 1.41.59.51 0 1.02-.2 1.41-.59l7.78-7.78 2.81-2.81c.8-.78.8-2.07 0-2.86zM5.41 20L4 18.59l7.72-7.72 1.47 1.35L5.41 20z\"/>\n",
              "  </svg>\n",
              "      </button>\n",
              "      \n",
              "  <style>\n",
              "    .colab-df-container {\n",
              "      display:flex;\n",
              "      flex-wrap:wrap;\n",
              "      gap: 12px;\n",
              "    }\n",
              "\n",
              "    .colab-df-convert {\n",
              "      background-color: #E8F0FE;\n",
              "      border: none;\n",
              "      border-radius: 50%;\n",
              "      cursor: pointer;\n",
              "      display: none;\n",
              "      fill: #1967D2;\n",
              "      height: 32px;\n",
              "      padding: 0 0 0 0;\n",
              "      width: 32px;\n",
              "    }\n",
              "\n",
              "    .colab-df-convert:hover {\n",
              "      background-color: #E2EBFA;\n",
              "      box-shadow: 0px 1px 2px rgba(60, 64, 67, 0.3), 0px 1px 3px 1px rgba(60, 64, 67, 0.15);\n",
              "      fill: #174EA6;\n",
              "    }\n",
              "\n",
              "    [theme=dark] .colab-df-convert {\n",
              "      background-color: #3B4455;\n",
              "      fill: #D2E3FC;\n",
              "    }\n",
              "\n",
              "    [theme=dark] .colab-df-convert:hover {\n",
              "      background-color: #434B5C;\n",
              "      box-shadow: 0px 1px 3px 1px rgba(0, 0, 0, 0.15);\n",
              "      filter: drop-shadow(0px 1px 2px rgba(0, 0, 0, 0.3));\n",
              "      fill: #FFFFFF;\n",
              "    }\n",
              "  </style>\n",
              "\n",
              "      <script>\n",
              "        const buttonEl =\n",
              "          document.querySelector('#df-3238e9e0-28c5-4352-b44e-115056627e0d button.colab-df-convert');\n",
              "        buttonEl.style.display =\n",
              "          google.colab.kernel.accessAllowed ? 'block' : 'none';\n",
              "\n",
              "        async function convertToInteractive(key) {\n",
              "          const element = document.querySelector('#df-3238e9e0-28c5-4352-b44e-115056627e0d');\n",
              "          const dataTable =\n",
              "            await google.colab.kernel.invokeFunction('convertToInteractive',\n",
              "                                                     [key], {});\n",
              "          if (!dataTable) return;\n",
              "\n",
              "          const docLinkHtml = 'Like what you see? Visit the ' +\n",
              "            '<a target=\"_blank\" href=https://colab.research.google.com/notebooks/data_table.ipynb>data table notebook</a>'\n",
              "            + ' to learn more about interactive tables.';\n",
              "          element.innerHTML = '';\n",
              "          dataTable['output_type'] = 'display_data';\n",
              "          await google.colab.output.renderOutput(dataTable, element);\n",
              "          const docLink = document.createElement('div');\n",
              "          docLink.innerHTML = docLinkHtml;\n",
              "          element.appendChild(docLink);\n",
              "        }\n",
              "      </script>\n",
              "    </div>\n",
              "  </div>\n",
              "  "
            ]
          },
          "metadata": {},
          "execution_count": 28
        }
      ],
      "source": [
        "germancode.head()  #The \"head\" method prints the frist 5 rows of the data frame"
      ]
    },
    {
      "cell_type": "code",
      "execution_count": null,
      "metadata": {
        "colab": {
          "base_uri": "https://localhost:8080/",
          "height": 300
        },
        "id": "ep8WrtrfQknN",
        "outputId": "5571b1ff-c58b-43ae-81fa-83aa8ab5d83a"
      },
      "outputs": [
        {
          "output_type": "execute_result",
          "data": {
            "text/plain": [
              "     Status.of.existing.checking.account  Duration.in.month  Credit.history  \\\n",
              "995                                  4.0               12.0             3.0   \n",
              "996                                  1.0               30.0             3.0   \n",
              "997                                  4.0               12.0             3.0   \n",
              "998                                  1.0               45.0             3.0   \n",
              "999                                  2.0               45.0             5.0   \n",
              "\n",
              "     Purpose  Credit.amount  Savings.account.bonds  Present.employment.since  \\\n",
              "995      3.0         1736.0                    1.0                       3.0   \n",
              "996      2.0         3857.0                    1.0                       2.0   \n",
              "997      4.0          804.0                    1.0                       4.0   \n",
              "998      4.0         1845.0                    1.0                       2.0   \n",
              "999      2.0         4576.0                    2.0                       0.0   \n",
              "\n",
              "     Installment.rate.in.percentage.of.disposable.income  \\\n",
              "995                                                3.0     \n",
              "996                                                4.0     \n",
              "997                                                4.0     \n",
              "998                                                4.0     \n",
              "999                                                3.0     \n",
              "\n",
              "     Personal.status.and.sex  Other.debtors.guarantors  ...  Property  \\\n",
              "995                      2.0                       0.0  ...       1.0   \n",
              "996                      1.0                       0.0  ...       2.0   \n",
              "997                      3.0                       0.0  ...       3.0   \n",
              "998                      3.0                       0.0  ...       4.0   \n",
              "999                      3.0                       0.0  ...       3.0   \n",
              "\n",
              "     Age.in.years  Other.installment.plans  Housing  \\\n",
              "995          31.0                      3.0      2.0   \n",
              "996          40.0                      3.0      2.0   \n",
              "997          38.0                      3.0      2.0   \n",
              "998          23.0                      3.0      3.0   \n",
              "999          27.0                      3.0      2.0   \n",
              "\n",
              "     Number.of.existing.credits.at.this.bank  Job  \\\n",
              "995                                      1.0  1.0   \n",
              "996                                      1.0  3.0   \n",
              "997                                      1.0  2.0   \n",
              "998                                      1.0  2.0   \n",
              "999                                      1.0  2.0   \n",
              "\n",
              "     Number.of.people.being.liable.to.provide.maintenance.for  Telephone  \\\n",
              "995                                                1.0               0.0   \n",
              "996                                                1.0               1.0   \n",
              "997                                                1.0               0.0   \n",
              "998                                                1.0               1.0   \n",
              "999                                                1.0               0.0   \n",
              "\n",
              "     foreign.worker  risk  \n",
              "995             1.0   1.0  \n",
              "996             1.0   1.0  \n",
              "997             1.0   1.0  \n",
              "998             1.0   2.0  \n",
              "999             1.0   1.0  \n",
              "\n",
              "[5 rows x 21 columns]"
            ],
            "text/html": [
              "\n",
              "  <div id=\"df-ffba6b99-3bb1-4852-a278-c7be5eddfae3\">\n",
              "    <div class=\"colab-df-container\">\n",
              "      <div>\n",
              "<style scoped>\n",
              "    .dataframe tbody tr th:only-of-type {\n",
              "        vertical-align: middle;\n",
              "    }\n",
              "\n",
              "    .dataframe tbody tr th {\n",
              "        vertical-align: top;\n",
              "    }\n",
              "\n",
              "    .dataframe thead th {\n",
              "        text-align: right;\n",
              "    }\n",
              "</style>\n",
              "<table border=\"1\" class=\"dataframe\">\n",
              "  <thead>\n",
              "    <tr style=\"text-align: right;\">\n",
              "      <th></th>\n",
              "      <th>Status.of.existing.checking.account</th>\n",
              "      <th>Duration.in.month</th>\n",
              "      <th>Credit.history</th>\n",
              "      <th>Purpose</th>\n",
              "      <th>Credit.amount</th>\n",
              "      <th>Savings.account.bonds</th>\n",
              "      <th>Present.employment.since</th>\n",
              "      <th>Installment.rate.in.percentage.of.disposable.income</th>\n",
              "      <th>Personal.status.and.sex</th>\n",
              "      <th>Other.debtors.guarantors</th>\n",
              "      <th>...</th>\n",
              "      <th>Property</th>\n",
              "      <th>Age.in.years</th>\n",
              "      <th>Other.installment.plans</th>\n",
              "      <th>Housing</th>\n",
              "      <th>Number.of.existing.credits.at.this.bank</th>\n",
              "      <th>Job</th>\n",
              "      <th>Number.of.people.being.liable.to.provide.maintenance.for</th>\n",
              "      <th>Telephone</th>\n",
              "      <th>foreign.worker</th>\n",
              "      <th>risk</th>\n",
              "    </tr>\n",
              "  </thead>\n",
              "  <tbody>\n",
              "    <tr>\n",
              "      <th>995</th>\n",
              "      <td>4.0</td>\n",
              "      <td>12.0</td>\n",
              "      <td>3.0</td>\n",
              "      <td>3.0</td>\n",
              "      <td>1736.0</td>\n",
              "      <td>1.0</td>\n",
              "      <td>3.0</td>\n",
              "      <td>3.0</td>\n",
              "      <td>2.0</td>\n",
              "      <td>0.0</td>\n",
              "      <td>...</td>\n",
              "      <td>1.0</td>\n",
              "      <td>31.0</td>\n",
              "      <td>3.0</td>\n",
              "      <td>2.0</td>\n",
              "      <td>1.0</td>\n",
              "      <td>1.0</td>\n",
              "      <td>1.0</td>\n",
              "      <td>0.0</td>\n",
              "      <td>1.0</td>\n",
              "      <td>1.0</td>\n",
              "    </tr>\n",
              "    <tr>\n",
              "      <th>996</th>\n",
              "      <td>1.0</td>\n",
              "      <td>30.0</td>\n",
              "      <td>3.0</td>\n",
              "      <td>2.0</td>\n",
              "      <td>3857.0</td>\n",
              "      <td>1.0</td>\n",
              "      <td>2.0</td>\n",
              "      <td>4.0</td>\n",
              "      <td>1.0</td>\n",
              "      <td>0.0</td>\n",
              "      <td>...</td>\n",
              "      <td>2.0</td>\n",
              "      <td>40.0</td>\n",
              "      <td>3.0</td>\n",
              "      <td>2.0</td>\n",
              "      <td>1.0</td>\n",
              "      <td>3.0</td>\n",
              "      <td>1.0</td>\n",
              "      <td>1.0</td>\n",
              "      <td>1.0</td>\n",
              "      <td>1.0</td>\n",
              "    </tr>\n",
              "    <tr>\n",
              "      <th>997</th>\n",
              "      <td>4.0</td>\n",
              "      <td>12.0</td>\n",
              "      <td>3.0</td>\n",
              "      <td>4.0</td>\n",
              "      <td>804.0</td>\n",
              "      <td>1.0</td>\n",
              "      <td>4.0</td>\n",
              "      <td>4.0</td>\n",
              "      <td>3.0</td>\n",
              "      <td>0.0</td>\n",
              "      <td>...</td>\n",
              "      <td>3.0</td>\n",
              "      <td>38.0</td>\n",
              "      <td>3.0</td>\n",
              "      <td>2.0</td>\n",
              "      <td>1.0</td>\n",
              "      <td>2.0</td>\n",
              "      <td>1.0</td>\n",
              "      <td>0.0</td>\n",
              "      <td>1.0</td>\n",
              "      <td>1.0</td>\n",
              "    </tr>\n",
              "    <tr>\n",
              "      <th>998</th>\n",
              "      <td>1.0</td>\n",
              "      <td>45.0</td>\n",
              "      <td>3.0</td>\n",
              "      <td>4.0</td>\n",
              "      <td>1845.0</td>\n",
              "      <td>1.0</td>\n",
              "      <td>2.0</td>\n",
              "      <td>4.0</td>\n",
              "      <td>3.0</td>\n",
              "      <td>0.0</td>\n",
              "      <td>...</td>\n",
              "      <td>4.0</td>\n",
              "      <td>23.0</td>\n",
              "      <td>3.0</td>\n",
              "      <td>3.0</td>\n",
              "      <td>1.0</td>\n",
              "      <td>2.0</td>\n",
              "      <td>1.0</td>\n",
              "      <td>1.0</td>\n",
              "      <td>1.0</td>\n",
              "      <td>2.0</td>\n",
              "    </tr>\n",
              "    <tr>\n",
              "      <th>999</th>\n",
              "      <td>2.0</td>\n",
              "      <td>45.0</td>\n",
              "      <td>5.0</td>\n",
              "      <td>2.0</td>\n",
              "      <td>4576.0</td>\n",
              "      <td>2.0</td>\n",
              "      <td>0.0</td>\n",
              "      <td>3.0</td>\n",
              "      <td>3.0</td>\n",
              "      <td>0.0</td>\n",
              "      <td>...</td>\n",
              "      <td>3.0</td>\n",
              "      <td>27.0</td>\n",
              "      <td>3.0</td>\n",
              "      <td>2.0</td>\n",
              "      <td>1.0</td>\n",
              "      <td>2.0</td>\n",
              "      <td>1.0</td>\n",
              "      <td>0.0</td>\n",
              "      <td>1.0</td>\n",
              "      <td>1.0</td>\n",
              "    </tr>\n",
              "  </tbody>\n",
              "</table>\n",
              "<p>5 rows × 21 columns</p>\n",
              "</div>\n",
              "      <button class=\"colab-df-convert\" onclick=\"convertToInteractive('df-ffba6b99-3bb1-4852-a278-c7be5eddfae3')\"\n",
              "              title=\"Convert this dataframe to an interactive table.\"\n",
              "              style=\"display:none;\">\n",
              "        \n",
              "  <svg xmlns=\"http://www.w3.org/2000/svg\" height=\"24px\"viewBox=\"0 0 24 24\"\n",
              "       width=\"24px\">\n",
              "    <path d=\"M0 0h24v24H0V0z\" fill=\"none\"/>\n",
              "    <path d=\"M18.56 5.44l.94 2.06.94-2.06 2.06-.94-2.06-.94-.94-2.06-.94 2.06-2.06.94zm-11 1L8.5 8.5l.94-2.06 2.06-.94-2.06-.94L8.5 2.5l-.94 2.06-2.06.94zm10 10l.94 2.06.94-2.06 2.06-.94-2.06-.94-.94-2.06-.94 2.06-2.06.94z\"/><path d=\"M17.41 7.96l-1.37-1.37c-.4-.4-.92-.59-1.43-.59-.52 0-1.04.2-1.43.59L10.3 9.45l-7.72 7.72c-.78.78-.78 2.05 0 2.83L4 21.41c.39.39.9.59 1.41.59.51 0 1.02-.2 1.41-.59l7.78-7.78 2.81-2.81c.8-.78.8-2.07 0-2.86zM5.41 20L4 18.59l7.72-7.72 1.47 1.35L5.41 20z\"/>\n",
              "  </svg>\n",
              "      </button>\n",
              "      \n",
              "  <style>\n",
              "    .colab-df-container {\n",
              "      display:flex;\n",
              "      flex-wrap:wrap;\n",
              "      gap: 12px;\n",
              "    }\n",
              "\n",
              "    .colab-df-convert {\n",
              "      background-color: #E8F0FE;\n",
              "      border: none;\n",
              "      border-radius: 50%;\n",
              "      cursor: pointer;\n",
              "      display: none;\n",
              "      fill: #1967D2;\n",
              "      height: 32px;\n",
              "      padding: 0 0 0 0;\n",
              "      width: 32px;\n",
              "    }\n",
              "\n",
              "    .colab-df-convert:hover {\n",
              "      background-color: #E2EBFA;\n",
              "      box-shadow: 0px 1px 2px rgba(60, 64, 67, 0.3), 0px 1px 3px 1px rgba(60, 64, 67, 0.15);\n",
              "      fill: #174EA6;\n",
              "    }\n",
              "\n",
              "    [theme=dark] .colab-df-convert {\n",
              "      background-color: #3B4455;\n",
              "      fill: #D2E3FC;\n",
              "    }\n",
              "\n",
              "    [theme=dark] .colab-df-convert:hover {\n",
              "      background-color: #434B5C;\n",
              "      box-shadow: 0px 1px 3px 1px rgba(0, 0, 0, 0.15);\n",
              "      filter: drop-shadow(0px 1px 2px rgba(0, 0, 0, 0.3));\n",
              "      fill: #FFFFFF;\n",
              "    }\n",
              "  </style>\n",
              "\n",
              "      <script>\n",
              "        const buttonEl =\n",
              "          document.querySelector('#df-ffba6b99-3bb1-4852-a278-c7be5eddfae3 button.colab-df-convert');\n",
              "        buttonEl.style.display =\n",
              "          google.colab.kernel.accessAllowed ? 'block' : 'none';\n",
              "\n",
              "        async function convertToInteractive(key) {\n",
              "          const element = document.querySelector('#df-ffba6b99-3bb1-4852-a278-c7be5eddfae3');\n",
              "          const dataTable =\n",
              "            await google.colab.kernel.invokeFunction('convertToInteractive',\n",
              "                                                     [key], {});\n",
              "          if (!dataTable) return;\n",
              "\n",
              "          const docLinkHtml = 'Like what you see? Visit the ' +\n",
              "            '<a target=\"_blank\" href=https://colab.research.google.com/notebooks/data_table.ipynb>data table notebook</a>'\n",
              "            + ' to learn more about interactive tables.';\n",
              "          element.innerHTML = '';\n",
              "          dataTable['output_type'] = 'display_data';\n",
              "          await google.colab.output.renderOutput(dataTable, element);\n",
              "          const docLink = document.createElement('div');\n",
              "          docLink.innerHTML = docLinkHtml;\n",
              "          element.appendChild(docLink);\n",
              "        }\n",
              "      </script>\n",
              "    </div>\n",
              "  </div>\n",
              "  "
            ]
          },
          "metadata": {},
          "execution_count": 29
        }
      ],
      "source": [
        "germancode.tail() #The \"tail\" method prints the last 5 rows of the data frame"
      ]
    },
    {
      "cell_type": "markdown",
      "metadata": {
        "id": "4ADUTRDouHt5"
      },
      "source": [
        "**Data dimensions**"
      ]
    },
    {
      "cell_type": "code",
      "execution_count": null,
      "metadata": {
        "colab": {
          "base_uri": "https://localhost:8080/"
        },
        "id": "4cfNESR6QnlQ",
        "outputId": "fede4613-f48e-4219-bfc8-3ebfb1639450"
      },
      "outputs": [
        {
          "output_type": "execute_result",
          "data": {
            "text/plain": [
              "(1000, 21)"
            ]
          },
          "metadata": {},
          "execution_count": 30
        }
      ],
      "source": [
        "germancode.shape    #The 'shape\" method show the total numer of row and columns"
      ]
    },
    {
      "cell_type": "markdown",
      "metadata": {
        "id": "JIoOj_PGtMmX"
      },
      "source": [
        "**Data Summary**"
      ]
    },
    {
      "cell_type": "code",
      "execution_count": null,
      "metadata": {
        "colab": {
          "base_uri": "https://localhost:8080/",
          "height": 394
        },
        "id": "B_I_VkNSm6WS",
        "outputId": "7ae5d968-45b0-4fa6-8164-7346ffe5a8a1"
      },
      "outputs": [
        {
          "output_type": "execute_result",
          "data": {
            "text/plain": [
              "       Status.of.existing.checking.account  Duration.in.month  Credit.history  \\\n",
              "count                          1000.000000        1000.000000      1000.00000   \n",
              "mean                              2.577000          16.143000         3.54500   \n",
              "std                               1.257638          13.610062         1.08312   \n",
              "min                               1.000000           1.000000         1.00000   \n",
              "25%                               1.000000           6.000000         3.00000   \n",
              "50%                               2.000000          12.000000         3.00000   \n",
              "75%                               4.000000          18.000000         5.00000   \n",
              "max                               4.000000          72.000000         5.00000   \n",
              "\n",
              "           Purpose  Credit.amount  Savings.account.bonds  \\\n",
              "count  1000.000000    1000.000000            1000.000000   \n",
              "mean      3.828000    3271.258000               2.105000   \n",
              "std       2.744439    2822.736876               1.580023   \n",
              "min       1.000000     250.000000               1.000000   \n",
              "25%       2.000000    1365.500000               1.000000   \n",
              "50%       3.000000    2319.500000               1.000000   \n",
              "75%       4.000000    3972.250000               3.000000   \n",
              "max      11.000000   18424.000000               5.000000   \n",
              "\n",
              "       Present.employment.since  \\\n",
              "count               1000.000000   \n",
              "mean                   2.384000   \n",
              "std                    1.208306   \n",
              "min                    0.000000   \n",
              "25%                    2.000000   \n",
              "50%                    2.000000   \n",
              "75%                    4.000000   \n",
              "max                    4.000000   \n",
              "\n",
              "       Installment.rate.in.percentage.of.disposable.income  \\\n",
              "count                                        1000.000000     \n",
              "mean                                            2.973000     \n",
              "std                                             1.118715     \n",
              "min                                             1.000000     \n",
              "25%                                             2.000000     \n",
              "50%                                             3.000000     \n",
              "75%                                             4.000000     \n",
              "max                                             4.000000     \n",
              "\n",
              "       Personal.status.and.sex  Other.debtors.guarantors  ...     Property  \\\n",
              "count               1000.00000               1000.000000  ...  1000.000000   \n",
              "mean                   2.68200                  0.145000  ...     2.358000   \n",
              "std                    0.70808                  0.477706  ...     1.050209   \n",
              "min                    1.00000                  0.000000  ...     1.000000   \n",
              "25%                    2.00000                  0.000000  ...     1.000000   \n",
              "50%                    3.00000                  0.000000  ...     2.000000   \n",
              "75%                    3.00000                  0.000000  ...     3.000000   \n",
              "max                    4.00000                  2.000000  ...     4.000000   \n",
              "\n",
              "       Age.in.years  Other.installment.plans      Housing  \\\n",
              "count   1000.000000              1000.000000  1000.000000   \n",
              "mean      35.546000                 2.675000     1.929000   \n",
              "std       11.375469                 0.705601     0.531264   \n",
              "min       19.000000                 1.000000     1.000000   \n",
              "25%       27.000000                 3.000000     2.000000   \n",
              "50%       33.000000                 3.000000     2.000000   \n",
              "75%       42.000000                 3.000000     2.000000   \n",
              "max       75.000000                 3.000000     3.000000   \n",
              "\n",
              "       Number.of.existing.credits.at.this.bank          Job  \\\n",
              "count                              1000.000000  1000.000000   \n",
              "mean                                  1.407000     1.904000   \n",
              "std                                   0.577654     0.653614   \n",
              "min                                   1.000000     0.000000   \n",
              "25%                                   1.000000     2.000000   \n",
              "50%                                   1.000000     2.000000   \n",
              "75%                                   2.000000     2.000000   \n",
              "max                                   4.000000     3.000000   \n",
              "\n",
              "       Number.of.people.being.liable.to.provide.maintenance.for    Telephone  \\\n",
              "count                                        1000.000000         1000.000000   \n",
              "mean                                            1.155000            0.404000   \n",
              "std                                             0.362086            0.490943   \n",
              "min                                             1.000000            0.000000   \n",
              "25%                                             1.000000            0.000000   \n",
              "50%                                             1.000000            0.000000   \n",
              "75%                                             1.000000            1.000000   \n",
              "max                                             2.000000            1.000000   \n",
              "\n",
              "       foreign.worker         risk  \n",
              "count     1000.000000  1000.000000  \n",
              "mean         0.963000     1.300000  \n",
              "std          0.188856     0.458487  \n",
              "min          0.000000     1.000000  \n",
              "25%          1.000000     1.000000  \n",
              "50%          1.000000     1.000000  \n",
              "75%          1.000000     2.000000  \n",
              "max          1.000000     2.000000  \n",
              "\n",
              "[8 rows x 21 columns]"
            ],
            "text/html": [
              "\n",
              "  <div id=\"df-96d18a4a-8a52-4f5a-a875-0c68d2356b88\">\n",
              "    <div class=\"colab-df-container\">\n",
              "      <div>\n",
              "<style scoped>\n",
              "    .dataframe tbody tr th:only-of-type {\n",
              "        vertical-align: middle;\n",
              "    }\n",
              "\n",
              "    .dataframe tbody tr th {\n",
              "        vertical-align: top;\n",
              "    }\n",
              "\n",
              "    .dataframe thead th {\n",
              "        text-align: right;\n",
              "    }\n",
              "</style>\n",
              "<table border=\"1\" class=\"dataframe\">\n",
              "  <thead>\n",
              "    <tr style=\"text-align: right;\">\n",
              "      <th></th>\n",
              "      <th>Status.of.existing.checking.account</th>\n",
              "      <th>Duration.in.month</th>\n",
              "      <th>Credit.history</th>\n",
              "      <th>Purpose</th>\n",
              "      <th>Credit.amount</th>\n",
              "      <th>Savings.account.bonds</th>\n",
              "      <th>Present.employment.since</th>\n",
              "      <th>Installment.rate.in.percentage.of.disposable.income</th>\n",
              "      <th>Personal.status.and.sex</th>\n",
              "      <th>Other.debtors.guarantors</th>\n",
              "      <th>...</th>\n",
              "      <th>Property</th>\n",
              "      <th>Age.in.years</th>\n",
              "      <th>Other.installment.plans</th>\n",
              "      <th>Housing</th>\n",
              "      <th>Number.of.existing.credits.at.this.bank</th>\n",
              "      <th>Job</th>\n",
              "      <th>Number.of.people.being.liable.to.provide.maintenance.for</th>\n",
              "      <th>Telephone</th>\n",
              "      <th>foreign.worker</th>\n",
              "      <th>risk</th>\n",
              "    </tr>\n",
              "  </thead>\n",
              "  <tbody>\n",
              "    <tr>\n",
              "      <th>count</th>\n",
              "      <td>1000.000000</td>\n",
              "      <td>1000.000000</td>\n",
              "      <td>1000.00000</td>\n",
              "      <td>1000.000000</td>\n",
              "      <td>1000.000000</td>\n",
              "      <td>1000.000000</td>\n",
              "      <td>1000.000000</td>\n",
              "      <td>1000.000000</td>\n",
              "      <td>1000.00000</td>\n",
              "      <td>1000.000000</td>\n",
              "      <td>...</td>\n",
              "      <td>1000.000000</td>\n",
              "      <td>1000.000000</td>\n",
              "      <td>1000.000000</td>\n",
              "      <td>1000.000000</td>\n",
              "      <td>1000.000000</td>\n",
              "      <td>1000.000000</td>\n",
              "      <td>1000.000000</td>\n",
              "      <td>1000.000000</td>\n",
              "      <td>1000.000000</td>\n",
              "      <td>1000.000000</td>\n",
              "    </tr>\n",
              "    <tr>\n",
              "      <th>mean</th>\n",
              "      <td>2.577000</td>\n",
              "      <td>16.143000</td>\n",
              "      <td>3.54500</td>\n",
              "      <td>3.828000</td>\n",
              "      <td>3271.258000</td>\n",
              "      <td>2.105000</td>\n",
              "      <td>2.384000</td>\n",
              "      <td>2.973000</td>\n",
              "      <td>2.68200</td>\n",
              "      <td>0.145000</td>\n",
              "      <td>...</td>\n",
              "      <td>2.358000</td>\n",
              "      <td>35.546000</td>\n",
              "      <td>2.675000</td>\n",
              "      <td>1.929000</td>\n",
              "      <td>1.407000</td>\n",
              "      <td>1.904000</td>\n",
              "      <td>1.155000</td>\n",
              "      <td>0.404000</td>\n",
              "      <td>0.963000</td>\n",
              "      <td>1.300000</td>\n",
              "    </tr>\n",
              "    <tr>\n",
              "      <th>std</th>\n",
              "      <td>1.257638</td>\n",
              "      <td>13.610062</td>\n",
              "      <td>1.08312</td>\n",
              "      <td>2.744439</td>\n",
              "      <td>2822.736876</td>\n",
              "      <td>1.580023</td>\n",
              "      <td>1.208306</td>\n",
              "      <td>1.118715</td>\n",
              "      <td>0.70808</td>\n",
              "      <td>0.477706</td>\n",
              "      <td>...</td>\n",
              "      <td>1.050209</td>\n",
              "      <td>11.375469</td>\n",
              "      <td>0.705601</td>\n",
              "      <td>0.531264</td>\n",
              "      <td>0.577654</td>\n",
              "      <td>0.653614</td>\n",
              "      <td>0.362086</td>\n",
              "      <td>0.490943</td>\n",
              "      <td>0.188856</td>\n",
              "      <td>0.458487</td>\n",
              "    </tr>\n",
              "    <tr>\n",
              "      <th>min</th>\n",
              "      <td>1.000000</td>\n",
              "      <td>1.000000</td>\n",
              "      <td>1.00000</td>\n",
              "      <td>1.000000</td>\n",
              "      <td>250.000000</td>\n",
              "      <td>1.000000</td>\n",
              "      <td>0.000000</td>\n",
              "      <td>1.000000</td>\n",
              "      <td>1.00000</td>\n",
              "      <td>0.000000</td>\n",
              "      <td>...</td>\n",
              "      <td>1.000000</td>\n",
              "      <td>19.000000</td>\n",
              "      <td>1.000000</td>\n",
              "      <td>1.000000</td>\n",
              "      <td>1.000000</td>\n",
              "      <td>0.000000</td>\n",
              "      <td>1.000000</td>\n",
              "      <td>0.000000</td>\n",
              "      <td>0.000000</td>\n",
              "      <td>1.000000</td>\n",
              "    </tr>\n",
              "    <tr>\n",
              "      <th>25%</th>\n",
              "      <td>1.000000</td>\n",
              "      <td>6.000000</td>\n",
              "      <td>3.00000</td>\n",
              "      <td>2.000000</td>\n",
              "      <td>1365.500000</td>\n",
              "      <td>1.000000</td>\n",
              "      <td>2.000000</td>\n",
              "      <td>2.000000</td>\n",
              "      <td>2.00000</td>\n",
              "      <td>0.000000</td>\n",
              "      <td>...</td>\n",
              "      <td>1.000000</td>\n",
              "      <td>27.000000</td>\n",
              "      <td>3.000000</td>\n",
              "      <td>2.000000</td>\n",
              "      <td>1.000000</td>\n",
              "      <td>2.000000</td>\n",
              "      <td>1.000000</td>\n",
              "      <td>0.000000</td>\n",
              "      <td>1.000000</td>\n",
              "      <td>1.000000</td>\n",
              "    </tr>\n",
              "    <tr>\n",
              "      <th>50%</th>\n",
              "      <td>2.000000</td>\n",
              "      <td>12.000000</td>\n",
              "      <td>3.00000</td>\n",
              "      <td>3.000000</td>\n",
              "      <td>2319.500000</td>\n",
              "      <td>1.000000</td>\n",
              "      <td>2.000000</td>\n",
              "      <td>3.000000</td>\n",
              "      <td>3.00000</td>\n",
              "      <td>0.000000</td>\n",
              "      <td>...</td>\n",
              "      <td>2.000000</td>\n",
              "      <td>33.000000</td>\n",
              "      <td>3.000000</td>\n",
              "      <td>2.000000</td>\n",
              "      <td>1.000000</td>\n",
              "      <td>2.000000</td>\n",
              "      <td>1.000000</td>\n",
              "      <td>0.000000</td>\n",
              "      <td>1.000000</td>\n",
              "      <td>1.000000</td>\n",
              "    </tr>\n",
              "    <tr>\n",
              "      <th>75%</th>\n",
              "      <td>4.000000</td>\n",
              "      <td>18.000000</td>\n",
              "      <td>5.00000</td>\n",
              "      <td>4.000000</td>\n",
              "      <td>3972.250000</td>\n",
              "      <td>3.000000</td>\n",
              "      <td>4.000000</td>\n",
              "      <td>4.000000</td>\n",
              "      <td>3.00000</td>\n",
              "      <td>0.000000</td>\n",
              "      <td>...</td>\n",
              "      <td>3.000000</td>\n",
              "      <td>42.000000</td>\n",
              "      <td>3.000000</td>\n",
              "      <td>2.000000</td>\n",
              "      <td>2.000000</td>\n",
              "      <td>2.000000</td>\n",
              "      <td>1.000000</td>\n",
              "      <td>1.000000</td>\n",
              "      <td>1.000000</td>\n",
              "      <td>2.000000</td>\n",
              "    </tr>\n",
              "    <tr>\n",
              "      <th>max</th>\n",
              "      <td>4.000000</td>\n",
              "      <td>72.000000</td>\n",
              "      <td>5.00000</td>\n",
              "      <td>11.000000</td>\n",
              "      <td>18424.000000</td>\n",
              "      <td>5.000000</td>\n",
              "      <td>4.000000</td>\n",
              "      <td>4.000000</td>\n",
              "      <td>4.00000</td>\n",
              "      <td>2.000000</td>\n",
              "      <td>...</td>\n",
              "      <td>4.000000</td>\n",
              "      <td>75.000000</td>\n",
              "      <td>3.000000</td>\n",
              "      <td>3.000000</td>\n",
              "      <td>4.000000</td>\n",
              "      <td>3.000000</td>\n",
              "      <td>2.000000</td>\n",
              "      <td>1.000000</td>\n",
              "      <td>1.000000</td>\n",
              "      <td>2.000000</td>\n",
              "    </tr>\n",
              "  </tbody>\n",
              "</table>\n",
              "<p>8 rows × 21 columns</p>\n",
              "</div>\n",
              "      <button class=\"colab-df-convert\" onclick=\"convertToInteractive('df-96d18a4a-8a52-4f5a-a875-0c68d2356b88')\"\n",
              "              title=\"Convert this dataframe to an interactive table.\"\n",
              "              style=\"display:none;\">\n",
              "        \n",
              "  <svg xmlns=\"http://www.w3.org/2000/svg\" height=\"24px\"viewBox=\"0 0 24 24\"\n",
              "       width=\"24px\">\n",
              "    <path d=\"M0 0h24v24H0V0z\" fill=\"none\"/>\n",
              "    <path d=\"M18.56 5.44l.94 2.06.94-2.06 2.06-.94-2.06-.94-.94-2.06-.94 2.06-2.06.94zm-11 1L8.5 8.5l.94-2.06 2.06-.94-2.06-.94L8.5 2.5l-.94 2.06-2.06.94zm10 10l.94 2.06.94-2.06 2.06-.94-2.06-.94-.94-2.06-.94 2.06-2.06.94z\"/><path d=\"M17.41 7.96l-1.37-1.37c-.4-.4-.92-.59-1.43-.59-.52 0-1.04.2-1.43.59L10.3 9.45l-7.72 7.72c-.78.78-.78 2.05 0 2.83L4 21.41c.39.39.9.59 1.41.59.51 0 1.02-.2 1.41-.59l7.78-7.78 2.81-2.81c.8-.78.8-2.07 0-2.86zM5.41 20L4 18.59l7.72-7.72 1.47 1.35L5.41 20z\"/>\n",
              "  </svg>\n",
              "      </button>\n",
              "      \n",
              "  <style>\n",
              "    .colab-df-container {\n",
              "      display:flex;\n",
              "      flex-wrap:wrap;\n",
              "      gap: 12px;\n",
              "    }\n",
              "\n",
              "    .colab-df-convert {\n",
              "      background-color: #E8F0FE;\n",
              "      border: none;\n",
              "      border-radius: 50%;\n",
              "      cursor: pointer;\n",
              "      display: none;\n",
              "      fill: #1967D2;\n",
              "      height: 32px;\n",
              "      padding: 0 0 0 0;\n",
              "      width: 32px;\n",
              "    }\n",
              "\n",
              "    .colab-df-convert:hover {\n",
              "      background-color: #E2EBFA;\n",
              "      box-shadow: 0px 1px 2px rgba(60, 64, 67, 0.3), 0px 1px 3px 1px rgba(60, 64, 67, 0.15);\n",
              "      fill: #174EA6;\n",
              "    }\n",
              "\n",
              "    [theme=dark] .colab-df-convert {\n",
              "      background-color: #3B4455;\n",
              "      fill: #D2E3FC;\n",
              "    }\n",
              "\n",
              "    [theme=dark] .colab-df-convert:hover {\n",
              "      background-color: #434B5C;\n",
              "      box-shadow: 0px 1px 3px 1px rgba(0, 0, 0, 0.15);\n",
              "      filter: drop-shadow(0px 1px 2px rgba(0, 0, 0, 0.3));\n",
              "      fill: #FFFFFF;\n",
              "    }\n",
              "  </style>\n",
              "\n",
              "      <script>\n",
              "        const buttonEl =\n",
              "          document.querySelector('#df-96d18a4a-8a52-4f5a-a875-0c68d2356b88 button.colab-df-convert');\n",
              "        buttonEl.style.display =\n",
              "          google.colab.kernel.accessAllowed ? 'block' : 'none';\n",
              "\n",
              "        async function convertToInteractive(key) {\n",
              "          const element = document.querySelector('#df-96d18a4a-8a52-4f5a-a875-0c68d2356b88');\n",
              "          const dataTable =\n",
              "            await google.colab.kernel.invokeFunction('convertToInteractive',\n",
              "                                                     [key], {});\n",
              "          if (!dataTable) return;\n",
              "\n",
              "          const docLinkHtml = 'Like what you see? Visit the ' +\n",
              "            '<a target=\"_blank\" href=https://colab.research.google.com/notebooks/data_table.ipynb>data table notebook</a>'\n",
              "            + ' to learn more about interactive tables.';\n",
              "          element.innerHTML = '';\n",
              "          dataTable['output_type'] = 'display_data';\n",
              "          await google.colab.output.renderOutput(dataTable, element);\n",
              "          const docLink = document.createElement('div');\n",
              "          docLink.innerHTML = docLinkHtml;\n",
              "          element.appendChild(docLink);\n",
              "        }\n",
              "      </script>\n",
              "    </div>\n",
              "  </div>\n",
              "  "
            ]
          },
          "metadata": {},
          "execution_count": 31
        }
      ],
      "source": [
        "germancode.describe()"
      ]
    },
    {
      "cell_type": "code",
      "execution_count": null,
      "metadata": {
        "colab": {
          "base_uri": "https://localhost:8080/",
          "height": 300
        },
        "id": "dTm235Rbm-rn",
        "outputId": "e56c3ceb-d151-453f-8e2c-7a511d99309c"
      },
      "outputs": [
        {
          "output_type": "execute_result",
          "data": {
            "text/plain": [
              "   Status.of.existing.checking.account  Duration.in.month  Credit.history  \\\n",
              "0                                  4.0                4.0             3.0   \n",
              "1                                  NaN                NaN             NaN   \n",
              "2                                  NaN                NaN             NaN   \n",
              "3                                  NaN                NaN             NaN   \n",
              "4                                  NaN                NaN             NaN   \n",
              "\n",
              "   Purpose  Credit.amount  Savings.account.bonds  Present.employment.since  \\\n",
              "0      4.0         1258.0                    1.0                       2.0   \n",
              "1      NaN         1262.0                    NaN                       NaN   \n",
              "2      NaN         1275.0                    NaN                       NaN   \n",
              "3      NaN         1393.0                    NaN                       NaN   \n",
              "4      NaN         1478.0                    NaN                       NaN   \n",
              "\n",
              "   Installment.rate.in.percentage.of.disposable.income  \\\n",
              "0                                                4.0     \n",
              "1                                                NaN     \n",
              "2                                                NaN     \n",
              "3                                                NaN     \n",
              "4                                                NaN     \n",
              "\n",
              "   Personal.status.and.sex  Other.debtors.guarantors  ...  Property  \\\n",
              "0                      3.0                       0.0  ...       3.0   \n",
              "1                      NaN                       NaN  ...       NaN   \n",
              "2                      NaN                       NaN  ...       NaN   \n",
              "3                      NaN                       NaN  ...       NaN   \n",
              "4                      NaN                       NaN  ...       NaN   \n",
              "\n",
              "   Age.in.years  Other.installment.plans  Housing  \\\n",
              "0          27.0                      3.0      2.0   \n",
              "1           NaN                      NaN      NaN   \n",
              "2           NaN                      NaN      NaN   \n",
              "3           NaN                      NaN      NaN   \n",
              "4           NaN                      NaN      NaN   \n",
              "\n",
              "   Number.of.existing.credits.at.this.bank  Job  \\\n",
              "0                                      1.0  2.0   \n",
              "1                                      NaN  NaN   \n",
              "2                                      NaN  NaN   \n",
              "3                                      NaN  NaN   \n",
              "4                                      NaN  NaN   \n",
              "\n",
              "   Number.of.people.being.liable.to.provide.maintenance.for  Telephone  \\\n",
              "0                                                1.0               0.0   \n",
              "1                                                NaN               NaN   \n",
              "2                                                NaN               NaN   \n",
              "3                                                NaN               NaN   \n",
              "4                                                NaN               NaN   \n",
              "\n",
              "   foreign.worker  risk  \n",
              "0             1.0   1.0  \n",
              "1             NaN   NaN  \n",
              "2             NaN   NaN  \n",
              "3             NaN   NaN  \n",
              "4             NaN   NaN  \n",
              "\n",
              "[5 rows x 21 columns]"
            ],
            "text/html": [
              "\n",
              "  <div id=\"df-2bccc8ff-829a-470e-8a7c-403657195e56\">\n",
              "    <div class=\"colab-df-container\">\n",
              "      <div>\n",
              "<style scoped>\n",
              "    .dataframe tbody tr th:only-of-type {\n",
              "        vertical-align: middle;\n",
              "    }\n",
              "\n",
              "    .dataframe tbody tr th {\n",
              "        vertical-align: top;\n",
              "    }\n",
              "\n",
              "    .dataframe thead th {\n",
              "        text-align: right;\n",
              "    }\n",
              "</style>\n",
              "<table border=\"1\" class=\"dataframe\">\n",
              "  <thead>\n",
              "    <tr style=\"text-align: right;\">\n",
              "      <th></th>\n",
              "      <th>Status.of.existing.checking.account</th>\n",
              "      <th>Duration.in.month</th>\n",
              "      <th>Credit.history</th>\n",
              "      <th>Purpose</th>\n",
              "      <th>Credit.amount</th>\n",
              "      <th>Savings.account.bonds</th>\n",
              "      <th>Present.employment.since</th>\n",
              "      <th>Installment.rate.in.percentage.of.disposable.income</th>\n",
              "      <th>Personal.status.and.sex</th>\n",
              "      <th>Other.debtors.guarantors</th>\n",
              "      <th>...</th>\n",
              "      <th>Property</th>\n",
              "      <th>Age.in.years</th>\n",
              "      <th>Other.installment.plans</th>\n",
              "      <th>Housing</th>\n",
              "      <th>Number.of.existing.credits.at.this.bank</th>\n",
              "      <th>Job</th>\n",
              "      <th>Number.of.people.being.liable.to.provide.maintenance.for</th>\n",
              "      <th>Telephone</th>\n",
              "      <th>foreign.worker</th>\n",
              "      <th>risk</th>\n",
              "    </tr>\n",
              "  </thead>\n",
              "  <tbody>\n",
              "    <tr>\n",
              "      <th>0</th>\n",
              "      <td>4.0</td>\n",
              "      <td>4.0</td>\n",
              "      <td>3.0</td>\n",
              "      <td>4.0</td>\n",
              "      <td>1258.0</td>\n",
              "      <td>1.0</td>\n",
              "      <td>2.0</td>\n",
              "      <td>4.0</td>\n",
              "      <td>3.0</td>\n",
              "      <td>0.0</td>\n",
              "      <td>...</td>\n",
              "      <td>3.0</td>\n",
              "      <td>27.0</td>\n",
              "      <td>3.0</td>\n",
              "      <td>2.0</td>\n",
              "      <td>1.0</td>\n",
              "      <td>2.0</td>\n",
              "      <td>1.0</td>\n",
              "      <td>0.0</td>\n",
              "      <td>1.0</td>\n",
              "      <td>1.0</td>\n",
              "    </tr>\n",
              "    <tr>\n",
              "      <th>1</th>\n",
              "      <td>NaN</td>\n",
              "      <td>NaN</td>\n",
              "      <td>NaN</td>\n",
              "      <td>NaN</td>\n",
              "      <td>1262.0</td>\n",
              "      <td>NaN</td>\n",
              "      <td>NaN</td>\n",
              "      <td>NaN</td>\n",
              "      <td>NaN</td>\n",
              "      <td>NaN</td>\n",
              "      <td>...</td>\n",
              "      <td>NaN</td>\n",
              "      <td>NaN</td>\n",
              "      <td>NaN</td>\n",
              "      <td>NaN</td>\n",
              "      <td>NaN</td>\n",
              "      <td>NaN</td>\n",
              "      <td>NaN</td>\n",
              "      <td>NaN</td>\n",
              "      <td>NaN</td>\n",
              "      <td>NaN</td>\n",
              "    </tr>\n",
              "    <tr>\n",
              "      <th>2</th>\n",
              "      <td>NaN</td>\n",
              "      <td>NaN</td>\n",
              "      <td>NaN</td>\n",
              "      <td>NaN</td>\n",
              "      <td>1275.0</td>\n",
              "      <td>NaN</td>\n",
              "      <td>NaN</td>\n",
              "      <td>NaN</td>\n",
              "      <td>NaN</td>\n",
              "      <td>NaN</td>\n",
              "      <td>...</td>\n",
              "      <td>NaN</td>\n",
              "      <td>NaN</td>\n",
              "      <td>NaN</td>\n",
              "      <td>NaN</td>\n",
              "      <td>NaN</td>\n",
              "      <td>NaN</td>\n",
              "      <td>NaN</td>\n",
              "      <td>NaN</td>\n",
              "      <td>NaN</td>\n",
              "      <td>NaN</td>\n",
              "    </tr>\n",
              "    <tr>\n",
              "      <th>3</th>\n",
              "      <td>NaN</td>\n",
              "      <td>NaN</td>\n",
              "      <td>NaN</td>\n",
              "      <td>NaN</td>\n",
              "      <td>1393.0</td>\n",
              "      <td>NaN</td>\n",
              "      <td>NaN</td>\n",
              "      <td>NaN</td>\n",
              "      <td>NaN</td>\n",
              "      <td>NaN</td>\n",
              "      <td>...</td>\n",
              "      <td>NaN</td>\n",
              "      <td>NaN</td>\n",
              "      <td>NaN</td>\n",
              "      <td>NaN</td>\n",
              "      <td>NaN</td>\n",
              "      <td>NaN</td>\n",
              "      <td>NaN</td>\n",
              "      <td>NaN</td>\n",
              "      <td>NaN</td>\n",
              "      <td>NaN</td>\n",
              "    </tr>\n",
              "    <tr>\n",
              "      <th>4</th>\n",
              "      <td>NaN</td>\n",
              "      <td>NaN</td>\n",
              "      <td>NaN</td>\n",
              "      <td>NaN</td>\n",
              "      <td>1478.0</td>\n",
              "      <td>NaN</td>\n",
              "      <td>NaN</td>\n",
              "      <td>NaN</td>\n",
              "      <td>NaN</td>\n",
              "      <td>NaN</td>\n",
              "      <td>...</td>\n",
              "      <td>NaN</td>\n",
              "      <td>NaN</td>\n",
              "      <td>NaN</td>\n",
              "      <td>NaN</td>\n",
              "      <td>NaN</td>\n",
              "      <td>NaN</td>\n",
              "      <td>NaN</td>\n",
              "      <td>NaN</td>\n",
              "      <td>NaN</td>\n",
              "      <td>NaN</td>\n",
              "    </tr>\n",
              "  </tbody>\n",
              "</table>\n",
              "<p>5 rows × 21 columns</p>\n",
              "</div>\n",
              "      <button class=\"colab-df-convert\" onclick=\"convertToInteractive('df-2bccc8ff-829a-470e-8a7c-403657195e56')\"\n",
              "              title=\"Convert this dataframe to an interactive table.\"\n",
              "              style=\"display:none;\">\n",
              "        \n",
              "  <svg xmlns=\"http://www.w3.org/2000/svg\" height=\"24px\"viewBox=\"0 0 24 24\"\n",
              "       width=\"24px\">\n",
              "    <path d=\"M0 0h24v24H0V0z\" fill=\"none\"/>\n",
              "    <path d=\"M18.56 5.44l.94 2.06.94-2.06 2.06-.94-2.06-.94-.94-2.06-.94 2.06-2.06.94zm-11 1L8.5 8.5l.94-2.06 2.06-.94-2.06-.94L8.5 2.5l-.94 2.06-2.06.94zm10 10l.94 2.06.94-2.06 2.06-.94-2.06-.94-.94-2.06-.94 2.06-2.06.94z\"/><path d=\"M17.41 7.96l-1.37-1.37c-.4-.4-.92-.59-1.43-.59-.52 0-1.04.2-1.43.59L10.3 9.45l-7.72 7.72c-.78.78-.78 2.05 0 2.83L4 21.41c.39.39.9.59 1.41.59.51 0 1.02-.2 1.41-.59l7.78-7.78 2.81-2.81c.8-.78.8-2.07 0-2.86zM5.41 20L4 18.59l7.72-7.72 1.47 1.35L5.41 20z\"/>\n",
              "  </svg>\n",
              "      </button>\n",
              "      \n",
              "  <style>\n",
              "    .colab-df-container {\n",
              "      display:flex;\n",
              "      flex-wrap:wrap;\n",
              "      gap: 12px;\n",
              "    }\n",
              "\n",
              "    .colab-df-convert {\n",
              "      background-color: #E8F0FE;\n",
              "      border: none;\n",
              "      border-radius: 50%;\n",
              "      cursor: pointer;\n",
              "      display: none;\n",
              "      fill: #1967D2;\n",
              "      height: 32px;\n",
              "      padding: 0 0 0 0;\n",
              "      width: 32px;\n",
              "    }\n",
              "\n",
              "    .colab-df-convert:hover {\n",
              "      background-color: #E2EBFA;\n",
              "      box-shadow: 0px 1px 2px rgba(60, 64, 67, 0.3), 0px 1px 3px 1px rgba(60, 64, 67, 0.15);\n",
              "      fill: #174EA6;\n",
              "    }\n",
              "\n",
              "    [theme=dark] .colab-df-convert {\n",
              "      background-color: #3B4455;\n",
              "      fill: #D2E3FC;\n",
              "    }\n",
              "\n",
              "    [theme=dark] .colab-df-convert:hover {\n",
              "      background-color: #434B5C;\n",
              "      box-shadow: 0px 1px 3px 1px rgba(0, 0, 0, 0.15);\n",
              "      filter: drop-shadow(0px 1px 2px rgba(0, 0, 0, 0.3));\n",
              "      fill: #FFFFFF;\n",
              "    }\n",
              "  </style>\n",
              "\n",
              "      <script>\n",
              "        const buttonEl =\n",
              "          document.querySelector('#df-2bccc8ff-829a-470e-8a7c-403657195e56 button.colab-df-convert');\n",
              "        buttonEl.style.display =\n",
              "          google.colab.kernel.accessAllowed ? 'block' : 'none';\n",
              "\n",
              "        async function convertToInteractive(key) {\n",
              "          const element = document.querySelector('#df-2bccc8ff-829a-470e-8a7c-403657195e56');\n",
              "          const dataTable =\n",
              "            await google.colab.kernel.invokeFunction('convertToInteractive',\n",
              "                                                     [key], {});\n",
              "          if (!dataTable) return;\n",
              "\n",
              "          const docLinkHtml = 'Like what you see? Visit the ' +\n",
              "            '<a target=\"_blank\" href=https://colab.research.google.com/notebooks/data_table.ipynb>data table notebook</a>'\n",
              "            + ' to learn more about interactive tables.';\n",
              "          element.innerHTML = '';\n",
              "          dataTable['output_type'] = 'display_data';\n",
              "          await google.colab.output.renderOutput(dataTable, element);\n",
              "          const docLink = document.createElement('div');\n",
              "          docLink.innerHTML = docLinkHtml;\n",
              "          element.appendChild(docLink);\n",
              "        }\n",
              "      </script>\n",
              "    </div>\n",
              "  </div>\n",
              "  "
            ]
          },
          "metadata": {},
          "execution_count": 32
        }
      ],
      "source": [
        "germancode.mode()"
      ]
    },
    {
      "cell_type": "markdown",
      "metadata": {
        "id": "dSZVBla1VuCb"
      },
      "source": [
        "***Import R language into Colab***"
      ]
    },
    {
      "cell_type": "code",
      "execution_count": null,
      "metadata": {
        "colab": {
          "base_uri": "https://localhost:8080/"
        },
        "id": "jpruTAQf3E3_",
        "outputId": "d1cd5a58-5a65-432b-af0b-b38a822a48a0"
      },
      "outputs": [
        {
          "output_type": "stream",
          "name": "stdout",
          "text": [
            "Found existing installation: rpy2 3.0.0\n",
            "Uninstalling rpy2-3.0.0:\n",
            "  Successfully uninstalled rpy2-3.0.0\n"
          ]
        }
      ],
      "source": [
        "!pip uninstall rpy2 -y"
      ]
    },
    {
      "cell_type": "code",
      "execution_count": null,
      "metadata": {
        "colab": {
          "base_uri": "https://localhost:8080/",
          "height": 431
        },
        "id": "orZ6DOXo3HBy",
        "outputId": "a623afec-fd9d-4f53-da67-60a6b39bfa59"
      },
      "outputs": [
        {
          "output_type": "stream",
          "name": "stdout",
          "text": [
            "Looking in indexes: https://pypi.org/simple, https://us-python.pkg.dev/colab-wheels/public/simple/\n",
            "Collecting rpy2==3.0.0\n",
            "  Using cached rpy2-3.0.0-py3-none-any.whl\n",
            "Requirement already satisfied: jinja2 in /usr/local/lib/python3.8/dist-packages (from rpy2==3.0.0) (2.11.3)\n",
            "Requirement already satisfied: pytest in /usr/local/lib/python3.8/dist-packages (from rpy2==3.0.0) (3.6.4)\n",
            "Requirement already satisfied: simplegeneric in /usr/local/lib/python3.8/dist-packages (from rpy2==3.0.0) (0.8.1)\n",
            "Requirement already satisfied: cffi>=1.0.0 in /usr/local/lib/python3.8/dist-packages (from rpy2==3.0.0) (1.15.1)\n",
            "Requirement already satisfied: pycparser in /usr/local/lib/python3.8/dist-packages (from cffi>=1.0.0->rpy2==3.0.0) (2.21)\n",
            "Requirement already satisfied: MarkupSafe>=0.23 in /usr/local/lib/python3.8/dist-packages (from jinja2->rpy2==3.0.0) (2.0.1)\n",
            "Requirement already satisfied: attrs>=17.4.0 in /usr/local/lib/python3.8/dist-packages (from pytest->rpy2==3.0.0) (22.1.0)\n",
            "Requirement already satisfied: atomicwrites>=1.0 in /usr/local/lib/python3.8/dist-packages (from pytest->rpy2==3.0.0) (1.4.1)\n",
            "Requirement already satisfied: pluggy<0.8,>=0.5 in /usr/local/lib/python3.8/dist-packages (from pytest->rpy2==3.0.0) (0.7.1)\n",
            "Requirement already satisfied: setuptools in /usr/local/lib/python3.8/dist-packages (from pytest->rpy2==3.0.0) (57.4.0)\n",
            "Requirement already satisfied: more-itertools>=4.0.0 in /usr/local/lib/python3.8/dist-packages (from pytest->rpy2==3.0.0) (9.0.0)\n",
            "Requirement already satisfied: six>=1.10.0 in /usr/local/lib/python3.8/dist-packages (from pytest->rpy2==3.0.0) (1.15.0)\n",
            "Requirement already satisfied: py>=1.5.0 in /usr/local/lib/python3.8/dist-packages (from pytest->rpy2==3.0.0) (1.11.0)\n",
            "Installing collected packages: rpy2\n",
            "Successfully installed rpy2-3.0.0\n"
          ]
        },
        {
          "output_type": "display_data",
          "data": {
            "application/vnd.colab-display-data+json": {
              "pip_warning": {
                "packages": [
                  "_rinterface_cffi",
                  "rpy2"
                ]
              }
            }
          },
          "metadata": {}
        }
      ],
      "source": [
        "!pip install rpy2==3.0.0"
      ]
    },
    {
      "cell_type": "code",
      "execution_count": null,
      "metadata": {
        "colab": {
          "base_uri": "https://localhost:8080/"
        },
        "id": "o2lrnU6T3Isl",
        "outputId": "4db8609b-b299-4af4-9947-343fb096d264"
      },
      "outputs": [
        {
          "output_type": "stream",
          "name": "stdout",
          "text": [
            "The rpy2.ipython extension is already loaded. To reload it, use:\n",
            "  %reload_ext rpy2.ipython\n"
          ]
        }
      ],
      "source": [
        "%load_ext rpy2.ipython"
      ]
    },
    {
      "cell_type": "code",
      "execution_count": null,
      "metadata": {
        "colab": {
          "base_uri": "https://localhost:8080/"
        },
        "id": "MQn-o--zAmni",
        "outputId": "e37135ce-ae7b-4114-8dec-6ddc65d2ee1c"
      },
      "outputs": [
        {
          "output_type": "stream",
          "name": "stderr",
          "text": [
            "WARNING:rpy2.rinterface_lib.callbacks:R[write to console]: Installing package into ‘/usr/lib/R/site-library’\n",
            "(as ‘lib’ is unspecified)\n",
            "\n",
            "WARNING:rpy2.rinterface_lib.callbacks:R[write to console]: trying URL 'http://cran.us.r-project.org/src/contrib/tidyverse_1.3.2.tar.gz'\n",
            "\n",
            "WARNING:rpy2.rinterface_lib.callbacks:R[write to console]: Content type 'application/x-gzip'\n",
            "WARNING:rpy2.rinterface_lib.callbacks:R[write to console]:  length 702514 bytes (686 KB)\n",
            "\n",
            "WARNING:rpy2.rinterface_lib.callbacks:R[write to console]: =\n",
            "WARNING:rpy2.rinterface_lib.callbacks:R[write to console]: =\n",
            "WARNING:rpy2.rinterface_lib.callbacks:R[write to console]: =\n",
            "WARNING:rpy2.rinterface_lib.callbacks:R[write to console]: =\n",
            "WARNING:rpy2.rinterface_lib.callbacks:R[write to console]: =\n",
            "WARNING:rpy2.rinterface_lib.callbacks:R[write to console]: =\n",
            "WARNING:rpy2.rinterface_lib.callbacks:R[write to console]: =\n",
            "WARNING:rpy2.rinterface_lib.callbacks:R[write to console]: =\n",
            "WARNING:rpy2.rinterface_lib.callbacks:R[write to console]: =\n",
            "WARNING:rpy2.rinterface_lib.callbacks:R[write to console]: =\n",
            "WARNING:rpy2.rinterface_lib.callbacks:R[write to console]: =\n",
            "WARNING:rpy2.rinterface_lib.callbacks:R[write to console]: =\n",
            "WARNING:rpy2.rinterface_lib.callbacks:R[write to console]: =\n",
            "WARNING:rpy2.rinterface_lib.callbacks:R[write to console]: =\n",
            "WARNING:rpy2.rinterface_lib.callbacks:R[write to console]: =\n",
            "WARNING:rpy2.rinterface_lib.callbacks:R[write to console]: =\n",
            "WARNING:rpy2.rinterface_lib.callbacks:R[write to console]: =\n",
            "WARNING:rpy2.rinterface_lib.callbacks:R[write to console]: =\n",
            "WARNING:rpy2.rinterface_lib.callbacks:R[write to console]: =\n",
            "WARNING:rpy2.rinterface_lib.callbacks:R[write to console]: =\n",
            "WARNING:rpy2.rinterface_lib.callbacks:R[write to console]: =\n",
            "WARNING:rpy2.rinterface_lib.callbacks:R[write to console]: =\n",
            "WARNING:rpy2.rinterface_lib.callbacks:R[write to console]: =\n",
            "WARNING:rpy2.rinterface_lib.callbacks:R[write to console]: =\n",
            "WARNING:rpy2.rinterface_lib.callbacks:R[write to console]: =\n",
            "WARNING:rpy2.rinterface_lib.callbacks:R[write to console]: =\n",
            "WARNING:rpy2.rinterface_lib.callbacks:R[write to console]: =\n",
            "WARNING:rpy2.rinterface_lib.callbacks:R[write to console]: =\n",
            "WARNING:rpy2.rinterface_lib.callbacks:R[write to console]: =\n",
            "WARNING:rpy2.rinterface_lib.callbacks:R[write to console]: =\n",
            "WARNING:rpy2.rinterface_lib.callbacks:R[write to console]: =\n",
            "WARNING:rpy2.rinterface_lib.callbacks:R[write to console]: =\n",
            "WARNING:rpy2.rinterface_lib.callbacks:R[write to console]: =\n",
            "WARNING:rpy2.rinterface_lib.callbacks:R[write to console]: =\n",
            "WARNING:rpy2.rinterface_lib.callbacks:R[write to console]: =\n",
            "WARNING:rpy2.rinterface_lib.callbacks:R[write to console]: =\n",
            "WARNING:rpy2.rinterface_lib.callbacks:R[write to console]: =\n",
            "WARNING:rpy2.rinterface_lib.callbacks:R[write to console]: =\n",
            "WARNING:rpy2.rinterface_lib.callbacks:R[write to console]: =\n",
            "WARNING:rpy2.rinterface_lib.callbacks:R[write to console]: =\n",
            "WARNING:rpy2.rinterface_lib.callbacks:R[write to console]: =\n",
            "WARNING:rpy2.rinterface_lib.callbacks:R[write to console]: =\n",
            "WARNING:rpy2.rinterface_lib.callbacks:R[write to console]: =\n",
            "WARNING:rpy2.rinterface_lib.callbacks:R[write to console]: =\n",
            "WARNING:rpy2.rinterface_lib.callbacks:R[write to console]: =\n",
            "WARNING:rpy2.rinterface_lib.callbacks:R[write to console]: =\n",
            "WARNING:rpy2.rinterface_lib.callbacks:R[write to console]: =\n",
            "WARNING:rpy2.rinterface_lib.callbacks:R[write to console]: =\n",
            "WARNING:rpy2.rinterface_lib.callbacks:R[write to console]: =\n",
            "WARNING:rpy2.rinterface_lib.callbacks:R[write to console]: =\n",
            "WARNING:rpy2.rinterface_lib.callbacks:R[write to console]: \n",
            "\n",
            "WARNING:rpy2.rinterface_lib.callbacks:R[write to console]: downloaded 686 KB\n",
            "\n",
            "\n",
            "WARNING:rpy2.rinterface_lib.callbacks:R[write to console]: \n",
            "\n",
            "WARNING:rpy2.rinterface_lib.callbacks:R[write to console]: \n",
            "WARNING:rpy2.rinterface_lib.callbacks:R[write to console]: The downloaded source packages are in\n",
            "\t‘/tmp/RtmpLEakO2/downloaded_packages’\n",
            "WARNING:rpy2.rinterface_lib.callbacks:R[write to console]: \n",
            "WARNING:rpy2.rinterface_lib.callbacks:R[write to console]: \n",
            "\n",
            "WARNING:rpy2.rinterface_lib.callbacks:R[write to console]: Installing package into ‘/usr/lib/R/site-library’\n",
            "(as ‘lib’ is unspecified)\n",
            "\n",
            "WARNING:rpy2.rinterface_lib.callbacks:R[write to console]: trying URL 'http://cran.us.r-project.org/src/contrib/car_3.1-1.tar.gz'\n",
            "\n",
            "WARNING:rpy2.rinterface_lib.callbacks:R[write to console]: Content type 'application/x-gzip'\n",
            "WARNING:rpy2.rinterface_lib.callbacks:R[write to console]:  length 578902 bytes (565 KB)\n",
            "\n",
            "WARNING:rpy2.rinterface_lib.callbacks:R[write to console]: =\n",
            "WARNING:rpy2.rinterface_lib.callbacks:R[write to console]: =\n",
            "WARNING:rpy2.rinterface_lib.callbacks:R[write to console]: =\n",
            "WARNING:rpy2.rinterface_lib.callbacks:R[write to console]: =\n",
            "WARNING:rpy2.rinterface_lib.callbacks:R[write to console]: =\n",
            "WARNING:rpy2.rinterface_lib.callbacks:R[write to console]: =\n",
            "WARNING:rpy2.rinterface_lib.callbacks:R[write to console]: =\n",
            "WARNING:rpy2.rinterface_lib.callbacks:R[write to console]: =\n",
            "WARNING:rpy2.rinterface_lib.callbacks:R[write to console]: =\n",
            "WARNING:rpy2.rinterface_lib.callbacks:R[write to console]: =\n",
            "WARNING:rpy2.rinterface_lib.callbacks:R[write to console]: =\n",
            "WARNING:rpy2.rinterface_lib.callbacks:R[write to console]: =\n",
            "WARNING:rpy2.rinterface_lib.callbacks:R[write to console]: =\n",
            "WARNING:rpy2.rinterface_lib.callbacks:R[write to console]: =\n",
            "WARNING:rpy2.rinterface_lib.callbacks:R[write to console]: =\n",
            "WARNING:rpy2.rinterface_lib.callbacks:R[write to console]: =\n",
            "WARNING:rpy2.rinterface_lib.callbacks:R[write to console]: =\n",
            "WARNING:rpy2.rinterface_lib.callbacks:R[write to console]: =\n",
            "WARNING:rpy2.rinterface_lib.callbacks:R[write to console]: =\n",
            "WARNING:rpy2.rinterface_lib.callbacks:R[write to console]: =\n",
            "WARNING:rpy2.rinterface_lib.callbacks:R[write to console]: =\n",
            "WARNING:rpy2.rinterface_lib.callbacks:R[write to console]: =\n",
            "WARNING:rpy2.rinterface_lib.callbacks:R[write to console]: =\n",
            "WARNING:rpy2.rinterface_lib.callbacks:R[write to console]: =\n",
            "WARNING:rpy2.rinterface_lib.callbacks:R[write to console]: =\n",
            "WARNING:rpy2.rinterface_lib.callbacks:R[write to console]: =\n",
            "WARNING:rpy2.rinterface_lib.callbacks:R[write to console]: =\n",
            "WARNING:rpy2.rinterface_lib.callbacks:R[write to console]: =\n",
            "WARNING:rpy2.rinterface_lib.callbacks:R[write to console]: =\n",
            "WARNING:rpy2.rinterface_lib.callbacks:R[write to console]: =\n",
            "WARNING:rpy2.rinterface_lib.callbacks:R[write to console]: =\n",
            "WARNING:rpy2.rinterface_lib.callbacks:R[write to console]: =\n",
            "WARNING:rpy2.rinterface_lib.callbacks:R[write to console]: =\n",
            "WARNING:rpy2.rinterface_lib.callbacks:R[write to console]: =\n",
            "WARNING:rpy2.rinterface_lib.callbacks:R[write to console]: =\n",
            "WARNING:rpy2.rinterface_lib.callbacks:R[write to console]: =\n",
            "WARNING:rpy2.rinterface_lib.callbacks:R[write to console]: =\n",
            "WARNING:rpy2.rinterface_lib.callbacks:R[write to console]: =\n",
            "WARNING:rpy2.rinterface_lib.callbacks:R[write to console]: =\n",
            "WARNING:rpy2.rinterface_lib.callbacks:R[write to console]: =\n",
            "WARNING:rpy2.rinterface_lib.callbacks:R[write to console]: =\n",
            "WARNING:rpy2.rinterface_lib.callbacks:R[write to console]: =\n",
            "WARNING:rpy2.rinterface_lib.callbacks:R[write to console]: =\n",
            "WARNING:rpy2.rinterface_lib.callbacks:R[write to console]: =\n",
            "WARNING:rpy2.rinterface_lib.callbacks:R[write to console]: =\n",
            "WARNING:rpy2.rinterface_lib.callbacks:R[write to console]: =\n",
            "WARNING:rpy2.rinterface_lib.callbacks:R[write to console]: =\n",
            "WARNING:rpy2.rinterface_lib.callbacks:R[write to console]: =\n",
            "WARNING:rpy2.rinterface_lib.callbacks:R[write to console]: =\n",
            "WARNING:rpy2.rinterface_lib.callbacks:R[write to console]: =\n",
            "WARNING:rpy2.rinterface_lib.callbacks:R[write to console]: \n",
            "\n",
            "WARNING:rpy2.rinterface_lib.callbacks:R[write to console]: downloaded 565 KB\n",
            "\n",
            "\n",
            "WARNING:rpy2.rinterface_lib.callbacks:R[write to console]: \n",
            "\n",
            "WARNING:rpy2.rinterface_lib.callbacks:R[write to console]: \n",
            "WARNING:rpy2.rinterface_lib.callbacks:R[write to console]: The downloaded source packages are in\n",
            "\t‘/tmp/RtmpLEakO2/downloaded_packages’\n",
            "WARNING:rpy2.rinterface_lib.callbacks:R[write to console]: \n",
            "WARNING:rpy2.rinterface_lib.callbacks:R[write to console]: \n",
            "\n",
            "WARNING:rpy2.rinterface_lib.callbacks:R[write to console]: Installing package into ‘/usr/lib/R/site-library’\n",
            "(as ‘lib’ is unspecified)\n",
            "\n",
            "WARNING:rpy2.rinterface_lib.callbacks:R[write to console]: trying URL 'http://cran.us.r-project.org/src/contrib/leaps_3.1.tar.gz'\n",
            "\n",
            "WARNING:rpy2.rinterface_lib.callbacks:R[write to console]: Content type 'application/x-gzip'\n",
            "WARNING:rpy2.rinterface_lib.callbacks:R[write to console]:  length 28558 bytes (27 KB)\n",
            "\n",
            "WARNING:rpy2.rinterface_lib.callbacks:R[write to console]: =\n",
            "WARNING:rpy2.rinterface_lib.callbacks:R[write to console]: =\n",
            "WARNING:rpy2.rinterface_lib.callbacks:R[write to console]: =\n",
            "WARNING:rpy2.rinterface_lib.callbacks:R[write to console]: =\n",
            "WARNING:rpy2.rinterface_lib.callbacks:R[write to console]: =\n",
            "WARNING:rpy2.rinterface_lib.callbacks:R[write to console]: =\n",
            "WARNING:rpy2.rinterface_lib.callbacks:R[write to console]: =\n",
            "WARNING:rpy2.rinterface_lib.callbacks:R[write to console]: =\n",
            "WARNING:rpy2.rinterface_lib.callbacks:R[write to console]: =\n",
            "WARNING:rpy2.rinterface_lib.callbacks:R[write to console]: =\n",
            "WARNING:rpy2.rinterface_lib.callbacks:R[write to console]: =\n",
            "WARNING:rpy2.rinterface_lib.callbacks:R[write to console]: =\n",
            "WARNING:rpy2.rinterface_lib.callbacks:R[write to console]: =\n",
            "WARNING:rpy2.rinterface_lib.callbacks:R[write to console]: =\n",
            "WARNING:rpy2.rinterface_lib.callbacks:R[write to console]: =\n",
            "WARNING:rpy2.rinterface_lib.callbacks:R[write to console]: =\n",
            "WARNING:rpy2.rinterface_lib.callbacks:R[write to console]: =\n",
            "WARNING:rpy2.rinterface_lib.callbacks:R[write to console]: =\n",
            "WARNING:rpy2.rinterface_lib.callbacks:R[write to console]: =\n",
            "WARNING:rpy2.rinterface_lib.callbacks:R[write to console]: =\n",
            "WARNING:rpy2.rinterface_lib.callbacks:R[write to console]: =\n",
            "WARNING:rpy2.rinterface_lib.callbacks:R[write to console]: =\n",
            "WARNING:rpy2.rinterface_lib.callbacks:R[write to console]: =\n",
            "WARNING:rpy2.rinterface_lib.callbacks:R[write to console]: =\n",
            "WARNING:rpy2.rinterface_lib.callbacks:R[write to console]: =\n",
            "WARNING:rpy2.rinterface_lib.callbacks:R[write to console]: =\n",
            "WARNING:rpy2.rinterface_lib.callbacks:R[write to console]: =\n",
            "WARNING:rpy2.rinterface_lib.callbacks:R[write to console]: =\n",
            "WARNING:rpy2.rinterface_lib.callbacks:R[write to console]: =\n",
            "WARNING:rpy2.rinterface_lib.callbacks:R[write to console]: =\n",
            "WARNING:rpy2.rinterface_lib.callbacks:R[write to console]: =\n",
            "WARNING:rpy2.rinterface_lib.callbacks:R[write to console]: =\n",
            "WARNING:rpy2.rinterface_lib.callbacks:R[write to console]: =\n",
            "WARNING:rpy2.rinterface_lib.callbacks:R[write to console]: =\n",
            "WARNING:rpy2.rinterface_lib.callbacks:R[write to console]: =\n",
            "WARNING:rpy2.rinterface_lib.callbacks:R[write to console]: =\n",
            "WARNING:rpy2.rinterface_lib.callbacks:R[write to console]: =\n",
            "WARNING:rpy2.rinterface_lib.callbacks:R[write to console]: =\n",
            "WARNING:rpy2.rinterface_lib.callbacks:R[write to console]: =\n",
            "WARNING:rpy2.rinterface_lib.callbacks:R[write to console]: =\n",
            "WARNING:rpy2.rinterface_lib.callbacks:R[write to console]: =\n",
            "WARNING:rpy2.rinterface_lib.callbacks:R[write to console]: =\n",
            "WARNING:rpy2.rinterface_lib.callbacks:R[write to console]: =\n",
            "WARNING:rpy2.rinterface_lib.callbacks:R[write to console]: =\n",
            "WARNING:rpy2.rinterface_lib.callbacks:R[write to console]: =\n",
            "WARNING:rpy2.rinterface_lib.callbacks:R[write to console]: =\n",
            "WARNING:rpy2.rinterface_lib.callbacks:R[write to console]: =\n",
            "WARNING:rpy2.rinterface_lib.callbacks:R[write to console]: =\n",
            "WARNING:rpy2.rinterface_lib.callbacks:R[write to console]: =\n",
            "WARNING:rpy2.rinterface_lib.callbacks:R[write to console]: =\n",
            "WARNING:rpy2.rinterface_lib.callbacks:R[write to console]: \n",
            "\n",
            "WARNING:rpy2.rinterface_lib.callbacks:R[write to console]: downloaded 27 KB\n",
            "\n",
            "\n",
            "WARNING:rpy2.rinterface_lib.callbacks:R[write to console]: \n",
            "\n",
            "WARNING:rpy2.rinterface_lib.callbacks:R[write to console]: \n",
            "WARNING:rpy2.rinterface_lib.callbacks:R[write to console]: The downloaded source packages are in\n",
            "\t‘/tmp/RtmpLEakO2/downloaded_packages’\n",
            "WARNING:rpy2.rinterface_lib.callbacks:R[write to console]: \n",
            "WARNING:rpy2.rinterface_lib.callbacks:R[write to console]: \n",
            "\n",
            "WARNING:rpy2.rinterface_lib.callbacks:R[write to console]: Installing package into ‘/usr/lib/R/site-library’\n",
            "(as ‘lib’ is unspecified)\n",
            "\n",
            "WARNING:rpy2.rinterface_lib.callbacks:R[write to console]: trying URL 'http://cran.us.r-project.org/src/contrib/ggpubr_0.5.0.tar.gz'\n",
            "\n",
            "WARNING:rpy2.rinterface_lib.callbacks:R[write to console]: Content type 'application/x-gzip'\n",
            "WARNING:rpy2.rinterface_lib.callbacks:R[write to console]:  length 1913090 bytes (1.8 MB)\n",
            "\n",
            "WARNING:rpy2.rinterface_lib.callbacks:R[write to console]: =\n",
            "WARNING:rpy2.rinterface_lib.callbacks:R[write to console]: =\n",
            "WARNING:rpy2.rinterface_lib.callbacks:R[write to console]: =\n",
            "WARNING:rpy2.rinterface_lib.callbacks:R[write to console]: =\n",
            "WARNING:rpy2.rinterface_lib.callbacks:R[write to console]: =\n",
            "WARNING:rpy2.rinterface_lib.callbacks:R[write to console]: =\n",
            "WARNING:rpy2.rinterface_lib.callbacks:R[write to console]: =\n",
            "WARNING:rpy2.rinterface_lib.callbacks:R[write to console]: =\n",
            "WARNING:rpy2.rinterface_lib.callbacks:R[write to console]: =\n",
            "WARNING:rpy2.rinterface_lib.callbacks:R[write to console]: =\n",
            "WARNING:rpy2.rinterface_lib.callbacks:R[write to console]: =\n",
            "WARNING:rpy2.rinterface_lib.callbacks:R[write to console]: =\n",
            "WARNING:rpy2.rinterface_lib.callbacks:R[write to console]: =\n",
            "WARNING:rpy2.rinterface_lib.callbacks:R[write to console]: =\n",
            "WARNING:rpy2.rinterface_lib.callbacks:R[write to console]: =\n",
            "WARNING:rpy2.rinterface_lib.callbacks:R[write to console]: =\n",
            "WARNING:rpy2.rinterface_lib.callbacks:R[write to console]: =\n",
            "WARNING:rpy2.rinterface_lib.callbacks:R[write to console]: =\n",
            "WARNING:rpy2.rinterface_lib.callbacks:R[write to console]: =\n",
            "WARNING:rpy2.rinterface_lib.callbacks:R[write to console]: =\n",
            "WARNING:rpy2.rinterface_lib.callbacks:R[write to console]: =\n",
            "WARNING:rpy2.rinterface_lib.callbacks:R[write to console]: =\n",
            "WARNING:rpy2.rinterface_lib.callbacks:R[write to console]: =\n",
            "WARNING:rpy2.rinterface_lib.callbacks:R[write to console]: =\n",
            "WARNING:rpy2.rinterface_lib.callbacks:R[write to console]: =\n",
            "WARNING:rpy2.rinterface_lib.callbacks:R[write to console]: =\n",
            "WARNING:rpy2.rinterface_lib.callbacks:R[write to console]: =\n",
            "WARNING:rpy2.rinterface_lib.callbacks:R[write to console]: =\n",
            "WARNING:rpy2.rinterface_lib.callbacks:R[write to console]: =\n",
            "WARNING:rpy2.rinterface_lib.callbacks:R[write to console]: =\n",
            "WARNING:rpy2.rinterface_lib.callbacks:R[write to console]: =\n",
            "WARNING:rpy2.rinterface_lib.callbacks:R[write to console]: =\n",
            "WARNING:rpy2.rinterface_lib.callbacks:R[write to console]: =\n",
            "WARNING:rpy2.rinterface_lib.callbacks:R[write to console]: =\n",
            "WARNING:rpy2.rinterface_lib.callbacks:R[write to console]: =\n",
            "WARNING:rpy2.rinterface_lib.callbacks:R[write to console]: =\n",
            "WARNING:rpy2.rinterface_lib.callbacks:R[write to console]: =\n",
            "WARNING:rpy2.rinterface_lib.callbacks:R[write to console]: =\n",
            "WARNING:rpy2.rinterface_lib.callbacks:R[write to console]: =\n",
            "WARNING:rpy2.rinterface_lib.callbacks:R[write to console]: =\n",
            "WARNING:rpy2.rinterface_lib.callbacks:R[write to console]: =\n",
            "WARNING:rpy2.rinterface_lib.callbacks:R[write to console]: =\n",
            "WARNING:rpy2.rinterface_lib.callbacks:R[write to console]: =\n",
            "WARNING:rpy2.rinterface_lib.callbacks:R[write to console]: =\n",
            "WARNING:rpy2.rinterface_lib.callbacks:R[write to console]: =\n",
            "WARNING:rpy2.rinterface_lib.callbacks:R[write to console]: =\n",
            "WARNING:rpy2.rinterface_lib.callbacks:R[write to console]: =\n",
            "WARNING:rpy2.rinterface_lib.callbacks:R[write to console]: =\n",
            "WARNING:rpy2.rinterface_lib.callbacks:R[write to console]: =\n",
            "WARNING:rpy2.rinterface_lib.callbacks:R[write to console]: =\n",
            "WARNING:rpy2.rinterface_lib.callbacks:R[write to console]: \n",
            "\n",
            "WARNING:rpy2.rinterface_lib.callbacks:R[write to console]: downloaded 1.8 MB\n",
            "\n",
            "\n",
            "WARNING:rpy2.rinterface_lib.callbacks:R[write to console]: \n",
            "\n",
            "WARNING:rpy2.rinterface_lib.callbacks:R[write to console]: \n",
            "WARNING:rpy2.rinterface_lib.callbacks:R[write to console]: The downloaded source packages are in\n",
            "\t‘/tmp/RtmpLEakO2/downloaded_packages’\n",
            "WARNING:rpy2.rinterface_lib.callbacks:R[write to console]: \n",
            "WARNING:rpy2.rinterface_lib.callbacks:R[write to console]: \n",
            "\n",
            "WARNING:rpy2.rinterface_lib.callbacks:R[write to console]: Installing package into ‘/usr/lib/R/site-library’\n",
            "(as ‘lib’ is unspecified)\n",
            "\n",
            "WARNING:rpy2.rinterface_lib.callbacks:R[write to console]: trying URL 'http://cran.us.r-project.org/src/contrib/ggcorrplot_0.1.4.tar.gz'\n",
            "\n",
            "WARNING:rpy2.rinterface_lib.callbacks:R[write to console]: Content type 'application/x-gzip'\n",
            "WARNING:rpy2.rinterface_lib.callbacks:R[write to console]:  length 383171 bytes (374 KB)\n",
            "\n",
            "WARNING:rpy2.rinterface_lib.callbacks:R[write to console]: =\n",
            "WARNING:rpy2.rinterface_lib.callbacks:R[write to console]: =\n",
            "WARNING:rpy2.rinterface_lib.callbacks:R[write to console]: =\n",
            "WARNING:rpy2.rinterface_lib.callbacks:R[write to console]: =\n",
            "WARNING:rpy2.rinterface_lib.callbacks:R[write to console]: =\n",
            "WARNING:rpy2.rinterface_lib.callbacks:R[write to console]: =\n",
            "WARNING:rpy2.rinterface_lib.callbacks:R[write to console]: =\n",
            "WARNING:rpy2.rinterface_lib.callbacks:R[write to console]: =\n",
            "WARNING:rpy2.rinterface_lib.callbacks:R[write to console]: =\n",
            "WARNING:rpy2.rinterface_lib.callbacks:R[write to console]: =\n",
            "WARNING:rpy2.rinterface_lib.callbacks:R[write to console]: =\n",
            "WARNING:rpy2.rinterface_lib.callbacks:R[write to console]: =\n",
            "WARNING:rpy2.rinterface_lib.callbacks:R[write to console]: =\n",
            "WARNING:rpy2.rinterface_lib.callbacks:R[write to console]: =\n",
            "WARNING:rpy2.rinterface_lib.callbacks:R[write to console]: =\n",
            "WARNING:rpy2.rinterface_lib.callbacks:R[write to console]: =\n",
            "WARNING:rpy2.rinterface_lib.callbacks:R[write to console]: =\n",
            "WARNING:rpy2.rinterface_lib.callbacks:R[write to console]: =\n",
            "WARNING:rpy2.rinterface_lib.callbacks:R[write to console]: =\n",
            "WARNING:rpy2.rinterface_lib.callbacks:R[write to console]: =\n",
            "WARNING:rpy2.rinterface_lib.callbacks:R[write to console]: =\n",
            "WARNING:rpy2.rinterface_lib.callbacks:R[write to console]: =\n",
            "WARNING:rpy2.rinterface_lib.callbacks:R[write to console]: =\n",
            "WARNING:rpy2.rinterface_lib.callbacks:R[write to console]: =\n",
            "WARNING:rpy2.rinterface_lib.callbacks:R[write to console]: =\n",
            "WARNING:rpy2.rinterface_lib.callbacks:R[write to console]: =\n",
            "WARNING:rpy2.rinterface_lib.callbacks:R[write to console]: =\n",
            "WARNING:rpy2.rinterface_lib.callbacks:R[write to console]: =\n",
            "WARNING:rpy2.rinterface_lib.callbacks:R[write to console]: =\n",
            "WARNING:rpy2.rinterface_lib.callbacks:R[write to console]: =\n",
            "WARNING:rpy2.rinterface_lib.callbacks:R[write to console]: =\n",
            "WARNING:rpy2.rinterface_lib.callbacks:R[write to console]: =\n",
            "WARNING:rpy2.rinterface_lib.callbacks:R[write to console]: =\n",
            "WARNING:rpy2.rinterface_lib.callbacks:R[write to console]: =\n",
            "WARNING:rpy2.rinterface_lib.callbacks:R[write to console]: =\n",
            "WARNING:rpy2.rinterface_lib.callbacks:R[write to console]: =\n",
            "WARNING:rpy2.rinterface_lib.callbacks:R[write to console]: =\n",
            "WARNING:rpy2.rinterface_lib.callbacks:R[write to console]: =\n",
            "WARNING:rpy2.rinterface_lib.callbacks:R[write to console]: =\n",
            "WARNING:rpy2.rinterface_lib.callbacks:R[write to console]: =\n",
            "WARNING:rpy2.rinterface_lib.callbacks:R[write to console]: =\n",
            "WARNING:rpy2.rinterface_lib.callbacks:R[write to console]: =\n",
            "WARNING:rpy2.rinterface_lib.callbacks:R[write to console]: =\n",
            "WARNING:rpy2.rinterface_lib.callbacks:R[write to console]: =\n",
            "WARNING:rpy2.rinterface_lib.callbacks:R[write to console]: =\n",
            "WARNING:rpy2.rinterface_lib.callbacks:R[write to console]: =\n",
            "WARNING:rpy2.rinterface_lib.callbacks:R[write to console]: =\n",
            "WARNING:rpy2.rinterface_lib.callbacks:R[write to console]: =\n",
            "WARNING:rpy2.rinterface_lib.callbacks:R[write to console]: =\n",
            "WARNING:rpy2.rinterface_lib.callbacks:R[write to console]: =\n",
            "WARNING:rpy2.rinterface_lib.callbacks:R[write to console]: \n",
            "\n",
            "WARNING:rpy2.rinterface_lib.callbacks:R[write to console]: downloaded 374 KB\n",
            "\n",
            "\n",
            "WARNING:rpy2.rinterface_lib.callbacks:R[write to console]: \n",
            "\n",
            "WARNING:rpy2.rinterface_lib.callbacks:R[write to console]: \n",
            "WARNING:rpy2.rinterface_lib.callbacks:R[write to console]: The downloaded source packages are in\n",
            "\t‘/tmp/RtmpLEakO2/downloaded_packages’\n",
            "WARNING:rpy2.rinterface_lib.callbacks:R[write to console]: \n",
            "WARNING:rpy2.rinterface_lib.callbacks:R[write to console]: \n",
            "\n"
          ]
        }
      ],
      "source": [
        "%%R\n",
        "\n",
        "r = getOption(\"repos\")\n",
        "r[\"CRAN\"] = \"http://cran.us.r-project.org\"\n",
        "options(repos = r)\n",
        "install.packages(\"tidyverse\")\n",
        "library(\"tidyverse\") \n",
        "library(readr) # CSV file I/O, e.g. the read_csv function\n",
        "install.packages(\"car\")\n",
        "library(car)\n",
        "install.packages(\"leaps\")\n",
        "library(leaps)\n",
        "library(ggplot2)\n",
        "install.packages(\"ggpubr\")\n",
        "library(ggpubr)\n",
        "install.packages(\"ggcorrplot\")\n",
        "library(ggcorrplot)\n",
        "\n"
      ]
    },
    {
      "cell_type": "code",
      "source": [
        "import os\n",
        "import io\n",
        "import gdown\n",
        "import pandas as pd\n",
        "import rpy2.robjects as ro\n",
        "from rpy2.robjects.conversion import localconverter\n",
        "from rpy2.robjects import globalenv\n",
        "from rpy2.robjects import pandas2ri\n",
        "from rpy2.robjects.packages import importr\n",
        "\n",
        "url = \"https://drive.google.com/uc?id=1FpgZeeoYJIvf3-hl5beNyZpLc0Maq38D\"\n",
        "output = \"germancode.xlsx\"\n",
        "gdown.download(url, output, quiet=False)\n",
        "\n",
        "path = '/content/germancode.xlsx'\n",
        "\n",
        "germancode = pd.read_excel(path)"
      ],
      "metadata": {
        "id": "GAOrozz0kJlY",
        "colab": {
          "base_uri": "https://localhost:8080/"
        },
        "outputId": "7a79f41f-23e2-4449-f1a1-fd9d0b938cfb"
      },
      "execution_count": null,
      "outputs": [
        {
          "output_type": "stream",
          "name": "stderr",
          "text": [
            "Downloading...\n",
            "From: https://drive.google.com/uc?id=1FpgZeeoYJIvf3-hl5beNyZpLc0Maq38D\n",
            "To: /content/germancode.xlsx\n",
            "100%|██████████| 75.6k/75.6k [00:00<00:00, 37.2MB/s]\n"
          ]
        }
      ]
    },
    {
      "cell_type": "code",
      "execution_count": null,
      "metadata": {
        "id": "_RUdDS-apT5h"
      },
      "outputs": [],
      "source": [
        "with localconverter(ro.default_converter+pandas2ri.converter):\n",
        "    germancoder=ro.conversion.py2rpy(germancode)\n",
        "\n",
        "globalenv['germancoder']=germancoder"
      ]
    },
    {
      "cell_type": "markdown",
      "metadata": {
        "id": "gswJWP33cU5r"
      },
      "source": [
        "## **EDA**"
      ]
    },
    {
      "cell_type": "markdown",
      "metadata": {
        "id": "09zat7WH7LEr"
      },
      "source": [
        "**Correlation matrix**"
      ]
    },
    {
      "cell_type": "code",
      "execution_count": null,
      "metadata": {
        "id": "FxCWF2Gm2DXb",
        "colab": {
          "base_uri": "https://localhost:8080/",
          "height": 497
        },
        "outputId": "a7f314cf-b34f-4c34-9b47-565835a7abc5"
      },
      "outputs": [
        {
          "output_type": "display_data",
          "data": {
            "image/png": "[encoded data removed]"
          },
          "metadata": {}
        }
      ],
      "source": [
        "%%R\n",
        "gm=germancoder\n",
        "colnames(gm)[colnames(gm) == \"Housing\"] =\"c0\"\n",
        "colnames(gm)[colnames(gm) == \"Property\"] =\"c1\"\n",
        "colnames(gm)[colnames(gm) == \"Telephone\"] =\"c2\"\n",
        "colnames(gm)[colnames(gm) == \"Job\"] =\"c3\"\n",
        "colnames(gm)[colnames(gm) == \"Personal.status.and.sex\"] =\"c4\"\n",
        "\n",
        "\n",
        "colnames(gm)[colnames(gm) == \"Installment.rate.in.percentage.of.disposable.income\"] =\"c5\"\n",
        "colnames(gm)[colnames(gm) == \"Savings.account.bonds\"] =\"c6\"\n",
        "\n",
        "colnames(gm)[colnames(gm) == \"Status.of.existing.checking.account\"] =\"c7\"\n",
        "colnames(gm)[colnames(gm) == \"Other.installment.plans\"] =\"c8\"\n",
        "colnames(gm)[colnames(gm) == \"Number.of.people.being.liable.to.provide.maintenance.for\"] =\"c9\"\n",
        "\n",
        "colnames(gm)[colnames(gm) == \"Other.debtors.guarantors\"] =\"c10\"\n",
        "colnames(gm)[colnames(gm) == \"Present.residence.since\"] =\"c11\"\n",
        "colnames(gm)[colnames(gm) == \"Present.employment.since\"] =\"c12\"\n",
        "\n",
        "colnames(gm)[colnames(gm) == \"Age.in.years\"] =\"c13\"\n",
        "colnames(gm)[colnames(gm) == \"Number.of.existing.credits.at.this.bank\"] =\"c14\"\n",
        "colnames(gm)[colnames(gm) == \"Credit.history\"] =\"c15\"\n",
        "\n",
        "colnames(gm)[colnames(gm) == \"foreign.worker\"] =\"c16\"\n",
        "colnames(gm)[colnames(gm) == \"Purpose\"] =\"c17\"\n",
        "colnames(gm)[colnames(gm) == \"Number.of.existing.credits.at.this.bank\"] =\"c18\"\n",
        "\n",
        "colnames(gm)[colnames(gm) == \"Credit.amount\"] =\"c19\"\n",
        "colnames(gm)[colnames(gm) == \"Duration.in.month\"] =\"c20\"\n",
        "colnames(gm)[colnames(gm) == \"risk\"] =\"c21\"\n",
        "corrred <- round(cor(gm), 2)\n",
        "head(corrred[, 1:21])\n",
        "ggcorrplot(corrred,hc.order = TRUE,type = \"lower\")\n"
      ]
    },
    {
      "cell_type": "markdown",
      "metadata": {
        "id": "o62O3vsI5yjW"
      },
      "source": [
        "Note:\n",
        "C0 = Housing \n",
        "C1 = Property \n",
        "C2 = Telephone \n",
        "C3 = Job \n",
        "C4 = Personal.status.and.sex \n",
        "C5 = Installment.rate.in.percentage.of.disposable.income \n",
        "C6 = Savings.account.bonds \n",
        "C7 = Status.of.existing.checking.account \n",
        "C8 = Other.installment.plans \n",
        "C9 = Number.of.people.being.liable.to.provide.maintenance.for \n",
        "C10 = Other.debtors.guarantors \n",
        "C11 = Present.residence.since \n",
        "C12 = Present.employment.since \n",
        "C13 = Age.in.years \n",
        "C14 = Number.of.existing.credits.at.this.bank \n",
        "C15 = Credit.history \n",
        "C16 = foreign.worker \n",
        "C17 = Purpose \n",
        "C18 = Number.of.existing.credits.at.this.bank \n",
        "C19 = Credit.amount \n",
        "C20 = Duration.in.month \n",
        "C21 = risk \n"
      ]
    },
    {
      "cell_type": "markdown",
      "metadata": {
        "id": "8QTnVW-6BUGS"
      },
      "source": [
        "*The strongest correlations exist between credit amount and duration in month, as well as between credit history and the number of existing credits at this bank, which makes sense because bank accounts and number of credits generally accrue in value over time. We can also see that not a lot of the variables have very high correlations. Still, we can find some relationships have approximately r=  ~ .25, and we investigated those in hopes of finding insightful patterns among different attributes which might contribute to good or bad credit evaluation.*"
      ]
    },
    {
      "cell_type": "markdown",
      "metadata": {
        "id": "IgFPr_yn7X_0"
      },
      "source": [
        "#### **Data Preparation**"
      ]
    },
    {
      "cell_type": "code",
      "execution_count": null,
      "metadata": {
        "id": "cYFLBvW9wcky"
      },
      "outputs": [],
      "source": [
        "%%R\n",
        "\n",
        "germancoder$RiskColor<-ifelse(germancoder$risk==\"2\",\"BAD\",\"GOOD\")\n",
        "germancoder$ForeignCol<-ifelse(germancoder$foreign.worker==\"1\",\"Yes\",\"No\")\n",
        "\n",
        "germancoder$Sex=as.character(germancoder$Personal.status.and.sex)\n",
        "\n",
        "\n",
        "germancoder$CreditH=as.character(germancoder$Credit.history)\n",
        "\n",
        " \n",
        "germancoder$Riskcode<-ifelse(germancoder$risk==\"2\",1,0)\n",
        "\n",
        "germancoder$DurM=ifelse(germancoder$Duration.in.month<13,1,germancoder$Duration.in.month)\n",
        "germancoder$DurM=ifelse(germancoder$DurM<25& germancoder$DurM>1,2,germancoder$DurM)\n",
        "germancoder$DurM=ifelse(germancoder$DurM<37& germancoder$DurM>2,3,germancoder$DurM)\n",
        "germancoder$DurM=ifelse(germancoder$DurM<49& germancoder$DurM>3,4,germancoder$DurM)\n",
        "germancoder$DurM=ifelse(germancoder$DurM<61& germancoder$DurM>4,5,germancoder$DurM)\n",
        "germancoder$DurM=ifelse(germancoder$DurM>61,6,germancoder$DurM)\n",
        "\n",
        "germancoder$DurationM=as.character(germancoder$DurM)"
      ]
    },
    {
      "cell_type": "markdown",
      "metadata": {
        "id": "pO2WjzSw6ydE"
      },
      "source": [
        "**Boxplots – age**\n"
      ]
    },
    {
      "cell_type": "code",
      "execution_count": null,
      "metadata": {
        "id": "-1TgxxRs1AMe",
        "colab": {
          "base_uri": "https://localhost:8080/",
          "height": 497
        },
        "outputId": "e9bccdad-0522-419a-8273-32b064bbe1f3"
      },
      "outputs": [
        {
          "output_type": "display_data",
          "data": {
            "image/png": "[encoded data removed]"
          },
          "metadata": {}
        }
      ],
      "source": [
        "%%R\n",
        "with(germancoder, boxplot(Age.in.years ~ Riskcode,main=\"Risk based on different Ages\",xlab=\"Risk\", ylab=\"Age\"))\n"
      ]
    },
    {
      "cell_type": "markdown",
      "metadata": {
        "id": "kMep-otHBn9T"
      },
      "source": [
        "*From this boxplot we can see that the group with good risk level has a relatively high median value of age compared to the group with bad risk.*"
      ]
    },
    {
      "cell_type": "markdown",
      "metadata": {
        "id": "qoKe9SrX69Zb"
      },
      "source": [
        "**Histograms – foreign workers**"
      ]
    },
    {
      "cell_type": "code",
      "execution_count": null,
      "metadata": {
        "id": "ttTALsWt0meN",
        "colab": {
          "base_uri": "https://localhost:8080/",
          "height": 533
        },
        "outputId": "9fe292b8-beae-41dd-e972-f4ae10fc55bc"
      },
      "outputs": [
        {
          "output_type": "stream",
          "name": "stderr",
          "text": [
            "WARNING:rpy2.rinterface_lib.callbacks:R[write to console]: `stat_bin()` using `bins = 30`. Pick better value with `binwidth`.\n",
            "\n"
          ]
        },
        {
          "output_type": "display_data",
          "data": {
            "image/png": "[encoded data removed]"
          },
          "metadata": {}
        }
      ],
      "source": [
        "%%R\n",
        "ggplot(germancoder, aes(x=foreign.worker, fill=RiskColor, color=RiskColor)) +\n",
        "  geom_histogram()+scale_x_continuous(breaks=seq(0,1,by=1))+ labs(x = \"Foreign Worker\",color = \"Risk\", fill =\"Risk\")\n"
      ]
    },
    {
      "cell_type": "markdown",
      "metadata": {
        "id": "tc9O2pGA7tKO"
      },
      "source": [
        "**Table of Risk vs Foreign Worker:**"
      ]
    },
    {
      "cell_type": "code",
      "execution_count": null,
      "metadata": {
        "id": "6PV9YK7I7sd0",
        "colab": {
          "base_uri": "https://localhost:8080/",
          "height": 88
        },
        "outputId": "3cc075a6-5618-462c-a52a-89f9cb0b027d"
      },
      "outputs": [
        {
          "output_type": "display_data",
          "data": {
            "text/plain": [
              "         ForeignCol\n",
              "RiskColor         No        Yes\n",
              "     BAD  0.01333333 0.98666667\n",
              "     GOOD 0.04714286 0.95285714\n"
            ]
          },
          "metadata": {}
        }
      ],
      "source": [
        "%%R\n",
        "tabFw<- with(germancoder, table(RiskColor,ForeignCol))\n",
        "prop.table(tabFw,margin=1)\n"
      ]
    },
    {
      "cell_type": "code",
      "execution_count": null,
      "metadata": {
        "id": "54e04BSS78BX",
        "colab": {
          "base_uri": "https://localhost:8080/",
          "height": 88
        },
        "outputId": "faee3e0e-4d3e-4bae-872a-bc79640e3b7d"
      },
      "outputs": [
        {
          "output_type": "display_data",
          "data": {
            "text/plain": [
              "          RiskColor\n",
              "ForeignCol       BAD      GOOD\n",
              "       No  0.1081081 0.8918919\n",
              "       Yes 0.3073728 0.6926272\n"
            ]
          },
          "metadata": {}
        }
      ],
      "source": [
        "%%R\n",
        "tabFw1<- with(germancoder, table(ForeignCol,RiskColor))\n",
        "prop.table(tabFw1,margin=1)\n"
      ]
    },
    {
      "cell_type": "markdown",
      "metadata": {
        "id": "xQLqh_qBCCrR"
      },
      "source": [
        "*From the graph we can see that the dataset has a larger proportion of cases that are foreign workers. And according to the table we got, foreign workers have a higher possibility to be evaluated as a bad risk.*"
      ]
    },
    {
      "cell_type": "markdown",
      "metadata": {
        "id": "NMdqVSOT7DH4"
      },
      "source": [
        "**Histograms – sex**"
      ]
    },
    {
      "cell_type": "code",
      "execution_count": null,
      "metadata": {
        "id": "D8yy7Pg06uxX",
        "colab": {
          "base_uri": "https://localhost:8080/",
          "height": 533
        },
        "outputId": "0576b2e4-102b-443a-fa58-951870fbf66c"
      },
      "outputs": [
        {
          "output_type": "stream",
          "name": "stderr",
          "text": [
            "WARNING:rpy2.rinterface_lib.callbacks:R[write to console]: `stat_bin()` using `bins = 30`. Pick better value with `binwidth`.\n",
            "\n"
          ]
        },
        {
          "output_type": "display_data",
          "data": {
            "image/png": "[encoded data removed]"
          },
          "metadata": {}
        }
      ],
      "source": [
        "%%R\n",
        "ggplot(germancoder, aes(x=`Personal.status.and.sex`, fill=RiskColor, color=RiskColor)) +\n",
        "  geom_histogram()+scale_x_continuous(breaks=seq(1,4,by=1))+ labs(x = \"Personal status and sex\",color = \"Risk\", fill =\"Risk\")\n"
      ]
    },
    {
      "cell_type": "markdown",
      "metadata": {
        "id": "FE7cM6wa8GiS"
      },
      "source": [
        "**Table of Risk vs Sex:**"
      ]
    },
    {
      "cell_type": "code",
      "execution_count": null,
      "metadata": {
        "id": "bD1IV7jV6wHi",
        "colab": {
          "base_uri": "https://localhost:8080/",
          "height": 88
        },
        "outputId": "f3a254a2-ab19-4807-f4cc-df2a7c1a0d2a"
      },
      "outputs": [
        {
          "output_type": "display_data",
          "data": {
            "text/plain": [
              "         Sex\n",
              "RiskColor          1          2          3          4\n",
              "     BAD  0.06666667 0.36333333 0.48666667 0.08333333\n",
              "     GOOD 0.04285714 0.28714286 0.57428571 0.09571429\n"
            ]
          },
          "metadata": {}
        }
      ],
      "source": [
        "%%R\n",
        "tabSex<- with(germancoder, table(RiskColor,Sex))\n",
        "prop.table(tabSex,margin=1)"
      ]
    },
    {
      "cell_type": "code",
      "execution_count": null,
      "metadata": {
        "id": "4TZj5i8-6wC5",
        "colab": {
          "base_uri": "https://localhost:8080/",
          "height": 124
        },
        "outputId": "b87f58b1-8b95-47a0-c526-ecc4f047707e"
      },
      "outputs": [
        {
          "output_type": "display_data",
          "data": {
            "text/plain": [
              "   RiskColor\n",
              "Sex       BAD      GOOD\n",
              "  1 0.4000000 0.6000000\n",
              "  2 0.3516129 0.6483871\n",
              "  3 0.2664234 0.7335766\n",
              "  4 0.2717391 0.7282609\n"
            ]
          },
          "metadata": {}
        }
      ],
      "source": [
        "%%R\n",
        "tabSex1<- with(germancoder, table(Sex,RiskColor))\n",
        "prop.table(tabSex1,margin=1)\n"
      ]
    },
    {
      "cell_type": "markdown",
      "metadata": {
        "id": "U9Ov5om2CGY1"
      },
      "source": [
        "*From the graph we can see that a majority of cases in the dataset are single male, with some divorced/separated/married female, and a smaller proportion are composed of divorced/separated male and married/widowed male. And there is no single female in our dataset. From the table we can see that, compared to those of divorced/separated/married female and divorced/separated male groups, a larger proportion of cases in single male and married male groups are considered to be in the good risk group (vs. the bad risk group). This suggests that divorced/separated/married females and divorced/separated males are more likely to hold good credit risk compared to the other two groups.*"
      ]
    },
    {
      "cell_type": "markdown",
      "metadata": {
        "id": "29PoG6hi89Ii"
      },
      "source": [
        "**Histograms – credit history**"
      ]
    },
    {
      "cell_type": "code",
      "execution_count": null,
      "metadata": {
        "id": "F2_tqUMu6v_b",
        "colab": {
          "base_uri": "https://localhost:8080/",
          "height": 533
        },
        "outputId": "eaeba08a-73e1-4073-fc0d-a4b09652276e"
      },
      "outputs": [
        {
          "output_type": "stream",
          "name": "stderr",
          "text": [
            "WARNING:rpy2.rinterface_lib.callbacks:R[write to console]: `stat_bin()` using `bins = 30`. Pick better value with `binwidth`.\n",
            "\n"
          ]
        },
        {
          "output_type": "display_data",
          "data": {
            "image/png": "[encoded data removed]"
          },
          "metadata": {}
        }
      ],
      "source": [
        "%%R\n",
        "ggplot(germancoder, aes(x=Credit.history, fill=RiskColor, color=RiskColor)) +\n",
        "  geom_histogram()+scale_x_continuous(breaks=seq(1,5,by=1))+ labs(x = \"Credit history\",color = \"Risk\", fill =\"Risk\")\n"
      ]
    },
    {
      "cell_type": "markdown",
      "metadata": {
        "id": "KwxCgtxK9Zgm"
      },
      "source": [
        "**Table of Risk vs Credit History**"
      ]
    },
    {
      "cell_type": "code",
      "execution_count": null,
      "metadata": {
        "id": "XWf0Bhej6v4_",
        "colab": {
          "base_uri": "https://localhost:8080/",
          "height": 88
        },
        "outputId": "a2ca4d67-0c54-4414-bff6-fa0a70515c85"
      },
      "outputs": [
        {
          "output_type": "display_data",
          "data": {
            "text/plain": [
              "         CreditH\n",
              "RiskColor          1          2          3          4          5\n",
              "     BAD  0.08333333 0.09333333 0.56333333 0.09333333 0.16666667\n",
              "     GOOD 0.02142857 0.03000000 0.51571429 0.08571429 0.34714286\n"
            ]
          },
          "metadata": {}
        }
      ],
      "source": [
        "%%R\n",
        "tabCH<- with(germancoder, table(RiskColor,CreditH))\n",
        "prop.table(tabCH,margin=1)\n"
      ]
    },
    {
      "cell_type": "code",
      "execution_count": null,
      "metadata": {
        "id": "gPHQPiic6vtf",
        "colab": {
          "base_uri": "https://localhost:8080/",
          "height": 142
        },
        "outputId": "505c5099-e993-4a71-e6b1-0e2ea9f48953"
      },
      "outputs": [
        {
          "output_type": "display_data",
          "data": {
            "text/plain": [
              "       RiskColor\n",
              "CreditH       BAD      GOOD\n",
              "      1 0.6250000 0.3750000\n",
              "      2 0.5714286 0.4285714\n",
              "      3 0.3188679 0.6811321\n",
              "      4 0.3181818 0.6818182\n",
              "      5 0.1706485 0.8293515\n"
            ]
          },
          "metadata": {}
        }
      ],
      "source": [
        "%%R\n",
        "tabCH1<- with(germancoder, table(CreditH,RiskColor))\n",
        "prop.table(tabCH1,margin=1)\n"
      ]
    },
    {
      "cell_type": "markdown",
      "metadata": {
        "id": "UrKaEwUiCLw7"
      },
      "source": [
        "*From the graph, we can see that a majority of cases have credit history with existing credits paid back duly till now, with many cases with critical account/ other credits existing (not at this bank), and a smaller proportion of cases have other types of credit history. Because the amount of cases are too small for credit history group 1, 2, and 4, the following stats in the tables might not be convincing. So we’ll only analyze group 3 and 5 as from the table. From the tables, we can see that compared to old customers who have opened credit accounts history at this bank, new customers who haven’t had any credit history at this bank would be more likely to be rated as good credit risk (vs. bad credit risk).*"
      ]
    },
    {
      "cell_type": "markdown",
      "metadata": {
        "id": "gXwYzbyQ9rvr"
      },
      "source": [
        "**Histograms – credit month**"
      ]
    },
    {
      "cell_type": "code",
      "execution_count": null,
      "metadata": {
        "id": "z5Boy0CG9tem",
        "colab": {
          "base_uri": "https://localhost:8080/",
          "height": 533
        },
        "outputId": "19e929b5-f2e5-4787-8c96-cdf09b6c021e"
      },
      "outputs": [
        {
          "output_type": "stream",
          "name": "stderr",
          "text": [
            "WARNING:rpy2.rinterface_lib.callbacks:R[write to console]: `stat_bin()` using `bins = 30`. Pick better value with `binwidth`.\n",
            "\n"
          ]
        },
        {
          "output_type": "display_data",
          "data": {
            "image/png": "[encoded data removed]"
          },
          "metadata": {}
        }
      ],
      "source": [
        "%%R\n",
        "ggplot(germancoder, aes(x=DurM, fill=RiskColor, color=RiskColor)) +\n",
        "  geom_histogram()+scale_x_continuous(breaks=seq(0,6,by=1))+ labs(x = \"Duration in year\",color = \"Risk\", fill =\"Risk\")\n"
      ]
    },
    {
      "cell_type": "markdown",
      "metadata": {
        "id": "lr1v4_GwDsUR"
      },
      "source": [
        "Note: we grouped 1-12 months into group 1, 13-24 months into group 2, 25-36 months into group 3, 37-48 months into group 4, 49-60 months into group 5, 61-72 months into group 6."
      ]
    },
    {
      "cell_type": "markdown",
      "metadata": {
        "id": "hVhfj6ql9tQX"
      },
      "source": [
        "**Table of Risk vs Duration in month**"
      ]
    },
    {
      "cell_type": "code",
      "execution_count": null,
      "metadata": {
        "id": "kBi0ZI8W9uR9",
        "colab": {
          "base_uri": "https://localhost:8080/",
          "height": 160
        },
        "outputId": "dc82584d-92b5-4baf-e252-99850b03af57"
      },
      "outputs": [
        {
          "output_type": "display_data",
          "data": {
            "text/plain": [
              "         DurationM\n",
              "RiskColor           1           2           3           4           5\n",
              "     BAD  0.480000000 0.190000000 0.190000000 0.113333333 0.023333333\n",
              "     GOOD 0.631428571 0.197142857 0.122857143 0.037142857 0.011428571\n",
              "         DurationM\n",
              "RiskColor           6\n",
              "     BAD  0.003333333\n",
              "     GOOD 0.000000000\n"
            ]
          },
          "metadata": {}
        }
      ],
      "source": [
        "%%R\n",
        "tabD<- with(germancoder, table(RiskColor,DurationM))\n",
        "prop.table(tabD,margin=1)"
      ]
    },
    {
      "cell_type": "code",
      "execution_count": null,
      "metadata": {
        "id": "qI_-MFBl9sqY",
        "colab": {
          "base_uri": "https://localhost:8080/",
          "height": 160
        },
        "outputId": "bb79f3de-6d0f-4c2c-8621-aa52ec1f8021"
      },
      "outputs": [
        {
          "output_type": "display_data",
          "data": {
            "text/plain": [
              "         RiskColor\n",
              "DurationM       BAD      GOOD\n",
              "        1 0.2457338 0.7542662\n",
              "        2 0.2923077 0.7076923\n",
              "        3 0.3986014 0.6013986\n",
              "        4 0.5666667 0.4333333\n",
              "        5 0.4666667 0.5333333\n",
              "        6 1.0000000 0.0000000\n"
            ]
          },
          "metadata": {}
        }
      ],
      "source": [
        "%%R\n",
        "tabD1<- with(germancoder, table(DurationM,RiskColor))\n",
        "prop.table(tabD1,margin=1)\n"
      ]
    },
    {
      "cell_type": "markdown",
      "metadata": {
        "id": "mGO2HX-ICzRE"
      },
      "source": [
        "*From the graph we can see that more cases has credit duration months falling within group 1. The longer the duration, the fewer loans will be opened. From the table, we can see that the longer the duration, the more likely that the loan will be evaluated to be bad risk.*"
      ]
    },
    {
      "cell_type": "markdown",
      "metadata": {
        "id": "9CyhQUGVAcel"
      },
      "source": [
        "**Age vs. Credit amount for various Purpose**"
      ]
    },
    {
      "cell_type": "code",
      "execution_count": null,
      "metadata": {
        "id": "4B-Lrgv4Ac4G",
        "colab": {
          "base_uri": "https://localhost:8080/",
          "height": 497
        },
        "outputId": "3a5ab889-cb99-4c39-bb49-9d7a2f7f0468"
      },
      "outputs": [
        {
          "output_type": "display_data",
          "data": {
            "image/png": "[encoded data removed]"
          },
          "metadata": {}
        }
      ],
      "source": [
        "%%R\n",
        "germancoder$RiskColor<-ifelse(germancoder$risk==\"2\",\"BAD\",\"GOOD\")\n",
        "ggplot(data = germancoder,aes(x = Age.in.years, y = Credit.amount)) +\n",
        "  geom_point(mapping = aes(color = RiskColor))  +\n",
        "  facet_wrap(vars(Purpose))+labs(color = \"Risk\")"
      ]
    },
    {
      "cell_type": "markdown",
      "metadata": {
        "id": "ExbjHFDjHOm2"
      },
      "source": [
        "*From the graph, we can see that a majority of cases are thought to buy car (new), car (used), furniture/equipment, and radio/television. Younger people (20-40 age years old) form a bulk of loan cases. Good risk standing people has a more seperated distribution of ages, while distribution of bad risk standing people concentrated on younger ages.*\n"
      ]
    },
    {
      "cell_type": "markdown",
      "metadata": {
        "id": "vUdjFx8NBGdy"
      },
      "source": [
        "**Age vs. Credit amount for Personal status and sex**"
      ]
    },
    {
      "cell_type": "code",
      "execution_count": null,
      "metadata": {
        "id": "H9WB_8o1AwkZ",
        "colab": {
          "base_uri": "https://localhost:8080/",
          "height": 497
        },
        "outputId": "473dbc0a-7e20-4985-9639-ccc33440aaf0"
      },
      "outputs": [
        {
          "output_type": "display_data",
          "data": {
            "image/png": "[encoded data removed]"
          },
          "metadata": {}
        }
      ],
      "source": [
        "%%R\n",
        "germancoder$RiskColor<-ifelse(germancoder$risk==\"2\",\"BAD\",\"GOOD\")\n",
        "ggplot(data = germancoder,aes(x = Age.in.years, y = Credit.amount)) +\n",
        "  geom_point(mapping = aes(color = RiskColor))  +\n",
        "  facet_wrap(vars(Personal.status.and.sex))+labs(color = \"Risk\")"
      ]
    },
    {
      "cell_type": "markdown",
      "metadata": {
        "id": "_OS6a2iuHJgz"
      },
      "source": [
        "*This graph shows that single males tend to borrow more, and as before, younger they are and higher the loan amount corresponds to a bad rating. The next most borrowing category is Female : divorced/separated/married. The dominant trend in this category is smaller loan amount, higher the age, better the credit rating. Males, married/widowed or divorced/separated have shown the least amount of borrowing. Because of this, its difficult to visually observe any trends in these categories.*"
      ]
    },
    {
      "cell_type": "markdown",
      "metadata": {
        "id": "G0VrXCUYA3Np"
      },
      "source": [
        "**Age vs. Credit amount for various categories of Duration in month**"
      ]
    },
    {
      "cell_type": "code",
      "execution_count": null,
      "metadata": {
        "id": "finUF_EXA3ec",
        "colab": {
          "base_uri": "https://localhost:8080/",
          "height": 497
        },
        "outputId": "9d6ca97a-6d65-4606-b97b-41a97cd2250a"
      },
      "outputs": [
        {
          "output_type": "display_data",
          "data": {
            "image/png": "[encoded data removed]"
          },
          "metadata": {}
        }
      ],
      "source": [
        "%%R\n",
        "germancoder$RiskColor<-ifelse(germancoder$risk==\"2\",\"BAD\",\"GOOD\")\n",
        "ggplot(data = germancoder,aes(x = Age.in.years, y = Credit.amount)) +\n",
        "  geom_point(mapping = aes(color = RiskColor))  +\n",
        "  facet_wrap(vars(DurM))+labs(color = \"Risk\")"
      ]
    },
    {
      "cell_type": "markdown",
      "metadata": {
        "id": "IXO3ATiacHn6"
      },
      "source": [
        "*This graph shows that a majority of loan cases request loans having a shorter duration years (1-2 years). As for 1-2 and 5-6years of loans, the credit amount is relatively smaller compared to other loans with more or less durations in years. 3-5 years of loans has a more disperse distribution of credit amount and bad vs. good risk standing.*"
      ]
    },
    {
      "cell_type": "markdown",
      "metadata": {
        "id": "BjDpfRX_VgXA"
      },
      "source": [
        "## **Machine Learning Model (Binary Classification)**\n",
        "\n",
        "**Goal**: To train a number of models on german credit history attributes in order to predict the value of some quantity on the basis of a new data item for which the target value or classification is unknown.\n",
        "\n",
        "**Our Case**: Credit risk classification – whether the client is evaluated to be in the good risk category vs. bad risk category.\n",
        "\n",
        "0 = Good\n",
        "1 = Bad"
      ]
    },
    {
      "cell_type": "markdown",
      "metadata": {
        "id": "A1ue-41V0iaP"
      },
      "source": [
        "**Import Data/Packages**"
      ]
    },
    {
      "cell_type": "code",
      "execution_count": null,
      "metadata": {
        "id": "ozD6m93ki7TO"
      },
      "outputs": [],
      "source": [
        "import matplotlib.pyplot as plt\n",
        "import pandas as pd\n",
        "import numpy as np\n",
        "import sklearn as sk\n",
        "import pandas as pd\n",
        "import os\n",
        "\n",
        "\n",
        "# Visualisation Libraries\n",
        "import matplotlib as mpl\n",
        "import seaborn as sns\n",
        "import warnings\n",
        "warnings.simplefilter('ignore')\n",
        "\n",
        "# ML Algorithm & Metrics Libraries\n",
        "from sklearn.model_selection import train_test_split\n",
        "from sklearn.model_selection import cross_val_predict\n",
        "# from sklearn.linear_model import Lasso, Ridge\n",
        "from sklearn import metrics\n",
        "from sklearn.metrics import confusion_matrix\n",
        "from sklearn.metrics import accuracy_score, precision_score, recall_score, f1_score\n",
        "from sklearn.metrics import precision_recall_curve\n",
        "from sklearn.metrics import auc\n",
        "from sklearn.metrics import roc_curve\n",
        "from sklearn.preprocessing import StandardScaler, MinMaxScaler\n",
        "from sklearn.pipeline import Pipeline\n",
        "\n",
        "from sklearn.naive_bayes import GaussianNB\n",
        "from sklearn.ensemble import RandomForestClassifier\n",
        "from sklearn.model_selection import RandomizedSearchCV\n",
        "from sklearn.tree import DecisionTreeClassifier\n",
        "from sklearn.linear_model import LogisticRegression\n",
        "from sklearn.neighbors import KNeighborsClassifier\n",
        "from sklearn.ensemble import GradientBoostingClassifier\n",
        "from sklearn.svm import SVC\n",
        "\n"
      ]
    },
    {
      "cell_type": "code",
      "execution_count": null,
      "metadata": {
        "id": "CDf1XQKxTULW",
        "colab": {
          "base_uri": "https://localhost:8080/"
        },
        "outputId": "a193bae9-b109-4301-c506-d902341c5b77"
      },
      "outputs": [
        {
          "output_type": "stream",
          "name": "stderr",
          "text": [
            "Downloading...\n",
            "From: https://drive.google.com/uc?id=1FpgZeeoYJIvf3-hl5beNyZpLc0Maq38D\n",
            "To: /content/germancode.xlsx\n",
            "100%|██████████| 75.6k/75.6k [00:00<00:00, 80.0MB/s]\n"
          ]
        }
      ],
      "source": [
        "import os\n",
        "import io\n",
        "import gdown\n",
        "import pandas as pd\n",
        "import rpy2.robjects as ro\n",
        "from rpy2.robjects.conversion import localconverter\n",
        "from rpy2.robjects import globalenv\n",
        "from rpy2.robjects import pandas2ri\n",
        "from rpy2.robjects.packages import importr\n",
        "url = \"https://drive.google.com/uc?id=1FpgZeeoYJIvf3-hl5beNyZpLc0Maq38D\"\n",
        "output = \"germancode.xlsx\"\n",
        "gdown.download(url, output, quiet=False)\n",
        "\n",
        "path = '/content/germancode.xlsx'\n",
        "\n",
        "dataset = pd.read_excel(path)"
      ]
    },
    {
      "cell_type": "markdown",
      "metadata": {
        "id": "nLYkrgh1aIDV"
      },
      "source": [
        "**Dataset Analysis**\n",
        "\n",
        "Split target variable and explanatory variables"
      ]
    },
    {
      "cell_type": "code",
      "execution_count": null,
      "metadata": {
        "id": "hXCC2Oszl416"
      },
      "outputs": [],
      "source": [
        "\n",
        "y = dataset.iloc[:,20]\n",
        "X = dataset.iloc[:,:20]\n"
      ]
    },
    {
      "cell_type": "code",
      "execution_count": null,
      "metadata": {
        "id": "HOJSuysJp1R1",
        "colab": {
          "base_uri": "https://localhost:8080/"
        },
        "outputId": "c180a4ba-fc03-4afa-8e53-7c9b19348045"
      },
      "outputs": [
        {
          "output_type": "execute_result",
          "data": {
            "text/plain": [
              "['Status.of.existing.checking.account',\n",
              " 'Duration.in.month',\n",
              " 'Credit.history',\n",
              " 'Purpose',\n",
              " 'Credit.amount',\n",
              " 'Savings.account.bonds',\n",
              " 'Present.employment.since',\n",
              " 'Installment.rate.in.percentage.of.disposable.income',\n",
              " 'Personal.status.and.sex',\n",
              " 'Other.debtors.guarantors',\n",
              " 'Present.residence.since',\n",
              " 'Property',\n",
              " 'Age.in.years',\n",
              " 'Other.installment.plans',\n",
              " 'Housing',\n",
              " 'Number.of.existing.credits.at.this.bank',\n",
              " 'Job',\n",
              " 'Number.of.people.being.liable.to.provide.maintenance.for',\n",
              " 'Telephone',\n",
              " 'foreign.worker',\n",
              " 'risk']"
            ]
          },
          "metadata": {},
          "execution_count": 81
        }
      ],
      "source": [
        "list(dataset.keys())"
      ]
    },
    {
      "cell_type": "code",
      "execution_count": null,
      "metadata": {
        "id": "UGdRcaW8o0x9",
        "colab": {
          "base_uri": "https://localhost:8080/",
          "height": 394
        },
        "outputId": "a7c6e06d-e272-45bc-9d80-c019ac05ff76"
      },
      "outputs": [
        {
          "output_type": "execute_result",
          "data": {
            "text/plain": [
              "       Status.of.existing.checking.account  Duration.in.month  Credit.history  \\\n",
              "count                          1000.000000        1000.000000      1000.00000   \n",
              "mean                              2.577000          16.143000         3.54500   \n",
              "std                               1.257638          13.610062         1.08312   \n",
              "min                               1.000000           1.000000         1.00000   \n",
              "25%                               1.000000           6.000000         3.00000   \n",
              "50%                               2.000000          12.000000         3.00000   \n",
              "75%                               4.000000          18.000000         5.00000   \n",
              "max                               4.000000          72.000000         5.00000   \n",
              "\n",
              "           Purpose  Credit.amount  Savings.account.bonds  \\\n",
              "count  1000.000000    1000.000000            1000.000000   \n",
              "mean      3.828000    3271.258000               2.105000   \n",
              "std       2.744439    2822.736876               1.580023   \n",
              "min       1.000000     250.000000               1.000000   \n",
              "25%       2.000000    1365.500000               1.000000   \n",
              "50%       3.000000    2319.500000               1.000000   \n",
              "75%       4.000000    3972.250000               3.000000   \n",
              "max      11.000000   18424.000000               5.000000   \n",
              "\n",
              "       Present.employment.since  \\\n",
              "count               1000.000000   \n",
              "mean                   2.384000   \n",
              "std                    1.208306   \n",
              "min                    0.000000   \n",
              "25%                    2.000000   \n",
              "50%                    2.000000   \n",
              "75%                    4.000000   \n",
              "max                    4.000000   \n",
              "\n",
              "       Installment.rate.in.percentage.of.disposable.income  \\\n",
              "count                                        1000.000000     \n",
              "mean                                            2.973000     \n",
              "std                                             1.118715     \n",
              "min                                             1.000000     \n",
              "25%                                             2.000000     \n",
              "50%                                             3.000000     \n",
              "75%                                             4.000000     \n",
              "max                                             4.000000     \n",
              "\n",
              "       Personal.status.and.sex  Other.debtors.guarantors  ...     Property  \\\n",
              "count               1000.00000               1000.000000  ...  1000.000000   \n",
              "mean                   2.68200                  0.145000  ...     2.358000   \n",
              "std                    0.70808                  0.477706  ...     1.050209   \n",
              "min                    1.00000                  0.000000  ...     1.000000   \n",
              "25%                    2.00000                  0.000000  ...     1.000000   \n",
              "50%                    3.00000                  0.000000  ...     2.000000   \n",
              "75%                    3.00000                  0.000000  ...     3.000000   \n",
              "max                    4.00000                  2.000000  ...     4.000000   \n",
              "\n",
              "       Age.in.years  Other.installment.plans      Housing  \\\n",
              "count   1000.000000              1000.000000  1000.000000   \n",
              "mean      35.546000                 2.675000     1.929000   \n",
              "std       11.375469                 0.705601     0.531264   \n",
              "min       19.000000                 1.000000     1.000000   \n",
              "25%       27.000000                 3.000000     2.000000   \n",
              "50%       33.000000                 3.000000     2.000000   \n",
              "75%       42.000000                 3.000000     2.000000   \n",
              "max       75.000000                 3.000000     3.000000   \n",
              "\n",
              "       Number.of.existing.credits.at.this.bank          Job  \\\n",
              "count                              1000.000000  1000.000000   \n",
              "mean                                  1.407000     1.904000   \n",
              "std                                   0.577654     0.653614   \n",
              "min                                   1.000000     0.000000   \n",
              "25%                                   1.000000     2.000000   \n",
              "50%                                   1.000000     2.000000   \n",
              "75%                                   2.000000     2.000000   \n",
              "max                                   4.000000     3.000000   \n",
              "\n",
              "       Number.of.people.being.liable.to.provide.maintenance.for    Telephone  \\\n",
              "count                                        1000.000000         1000.000000   \n",
              "mean                                            1.155000            0.404000   \n",
              "std                                             0.362086            0.490943   \n",
              "min                                             1.000000            0.000000   \n",
              "25%                                             1.000000            0.000000   \n",
              "50%                                             1.000000            0.000000   \n",
              "75%                                             1.000000            1.000000   \n",
              "max                                             2.000000            1.000000   \n",
              "\n",
              "       foreign.worker         risk  \n",
              "count     1000.000000  1000.000000  \n",
              "mean         0.963000     1.300000  \n",
              "std          0.188856     0.458487  \n",
              "min          0.000000     1.000000  \n",
              "25%          1.000000     1.000000  \n",
              "50%          1.000000     1.000000  \n",
              "75%          1.000000     2.000000  \n",
              "max          1.000000     2.000000  \n",
              "\n",
              "[8 rows x 21 columns]"
            ],
            "text/html": [
              "\n",
              "  <div id=\"df-50a9e921-ee85-4b32-b74e-96f98d28ec83\">\n",
              "    <div class=\"colab-df-container\">\n",
              "      <div>\n",
              "<style scoped>\n",
              "    .dataframe tbody tr th:only-of-type {\n",
              "        vertical-align: middle;\n",
              "    }\n",
              "\n",
              "    .dataframe tbody tr th {\n",
              "        vertical-align: top;\n",
              "    }\n",
              "\n",
              "    .dataframe thead th {\n",
              "        text-align: right;\n",
              "    }\n",
              "</style>\n",
              "<table border=\"1\" class=\"dataframe\">\n",
              "  <thead>\n",
              "    <tr style=\"text-align: right;\">\n",
              "      <th></th>\n",
              "      <th>Status.of.existing.checking.account</th>\n",
              "      <th>Duration.in.month</th>\n",
              "      <th>Credit.history</th>\n",
              "      <th>Purpose</th>\n",
              "      <th>Credit.amount</th>\n",
              "      <th>Savings.account.bonds</th>\n",
              "      <th>Present.employment.since</th>\n",
              "      <th>Installment.rate.in.percentage.of.disposable.income</th>\n",
              "      <th>Personal.status.and.sex</th>\n",
              "      <th>Other.debtors.guarantors</th>\n",
              "      <th>...</th>\n",
              "      <th>Property</th>\n",
              "      <th>Age.in.years</th>\n",
              "      <th>Other.installment.plans</th>\n",
              "      <th>Housing</th>\n",
              "      <th>Number.of.existing.credits.at.this.bank</th>\n",
              "      <th>Job</th>\n",
              "      <th>Number.of.people.being.liable.to.provide.maintenance.for</th>\n",
              "      <th>Telephone</th>\n",
              "      <th>foreign.worker</th>\n",
              "      <th>risk</th>\n",
              "    </tr>\n",
              "  </thead>\n",
              "  <tbody>\n",
              "    <tr>\n",
              "      <th>count</th>\n",
              "      <td>1000.000000</td>\n",
              "      <td>1000.000000</td>\n",
              "      <td>1000.00000</td>\n",
              "      <td>1000.000000</td>\n",
              "      <td>1000.000000</td>\n",
              "      <td>1000.000000</td>\n",
              "      <td>1000.000000</td>\n",
              "      <td>1000.000000</td>\n",
              "      <td>1000.00000</td>\n",
              "      <td>1000.000000</td>\n",
              "      <td>...</td>\n",
              "      <td>1000.000000</td>\n",
              "      <td>1000.000000</td>\n",
              "      <td>1000.000000</td>\n",
              "      <td>1000.000000</td>\n",
              "      <td>1000.000000</td>\n",
              "      <td>1000.000000</td>\n",
              "      <td>1000.000000</td>\n",
              "      <td>1000.000000</td>\n",
              "      <td>1000.000000</td>\n",
              "      <td>1000.000000</td>\n",
              "    </tr>\n",
              "    <tr>\n",
              "      <th>mean</th>\n",
              "      <td>2.577000</td>\n",
              "      <td>16.143000</td>\n",
              "      <td>3.54500</td>\n",
              "      <td>3.828000</td>\n",
              "      <td>3271.258000</td>\n",
              "      <td>2.105000</td>\n",
              "      <td>2.384000</td>\n",
              "      <td>2.973000</td>\n",
              "      <td>2.68200</td>\n",
              "      <td>0.145000</td>\n",
              "      <td>...</td>\n",
              "      <td>2.358000</td>\n",
              "      <td>35.546000</td>\n",
              "      <td>2.675000</td>\n",
              "      <td>1.929000</td>\n",
              "      <td>1.407000</td>\n",
              "      <td>1.904000</td>\n",
              "      <td>1.155000</td>\n",
              "      <td>0.404000</td>\n",
              "      <td>0.963000</td>\n",
              "      <td>1.300000</td>\n",
              "    </tr>\n",
              "    <tr>\n",
              "      <th>std</th>\n",
              "      <td>1.257638</td>\n",
              "      <td>13.610062</td>\n",
              "      <td>1.08312</td>\n",
              "      <td>2.744439</td>\n",
              "      <td>2822.736876</td>\n",
              "      <td>1.580023</td>\n",
              "      <td>1.208306</td>\n",
              "      <td>1.118715</td>\n",
              "      <td>0.70808</td>\n",
              "      <td>0.477706</td>\n",
              "      <td>...</td>\n",
              "      <td>1.050209</td>\n",
              "      <td>11.375469</td>\n",
              "      <td>0.705601</td>\n",
              "      <td>0.531264</td>\n",
              "      <td>0.577654</td>\n",
              "      <td>0.653614</td>\n",
              "      <td>0.362086</td>\n",
              "      <td>0.490943</td>\n",
              "      <td>0.188856</td>\n",
              "      <td>0.458487</td>\n",
              "    </tr>\n",
              "    <tr>\n",
              "      <th>min</th>\n",
              "      <td>1.000000</td>\n",
              "      <td>1.000000</td>\n",
              "      <td>1.00000</td>\n",
              "      <td>1.000000</td>\n",
              "      <td>250.000000</td>\n",
              "      <td>1.000000</td>\n",
              "      <td>0.000000</td>\n",
              "      <td>1.000000</td>\n",
              "      <td>1.00000</td>\n",
              "      <td>0.000000</td>\n",
              "      <td>...</td>\n",
              "      <td>1.000000</td>\n",
              "      <td>19.000000</td>\n",
              "      <td>1.000000</td>\n",
              "      <td>1.000000</td>\n",
              "      <td>1.000000</td>\n",
              "      <td>0.000000</td>\n",
              "      <td>1.000000</td>\n",
              "      <td>0.000000</td>\n",
              "      <td>0.000000</td>\n",
              "      <td>1.000000</td>\n",
              "    </tr>\n",
              "    <tr>\n",
              "      <th>25%</th>\n",
              "      <td>1.000000</td>\n",
              "      <td>6.000000</td>\n",
              "      <td>3.00000</td>\n",
              "      <td>2.000000</td>\n",
              "      <td>1365.500000</td>\n",
              "      <td>1.000000</td>\n",
              "      <td>2.000000</td>\n",
              "      <td>2.000000</td>\n",
              "      <td>2.00000</td>\n",
              "      <td>0.000000</td>\n",
              "      <td>...</td>\n",
              "      <td>1.000000</td>\n",
              "      <td>27.000000</td>\n",
              "      <td>3.000000</td>\n",
              "      <td>2.000000</td>\n",
              "      <td>1.000000</td>\n",
              "      <td>2.000000</td>\n",
              "      <td>1.000000</td>\n",
              "      <td>0.000000</td>\n",
              "      <td>1.000000</td>\n",
              "      <td>1.000000</td>\n",
              "    </tr>\n",
              "    <tr>\n",
              "      <th>50%</th>\n",
              "      <td>2.000000</td>\n",
              "      <td>12.000000</td>\n",
              "      <td>3.00000</td>\n",
              "      <td>3.000000</td>\n",
              "      <td>2319.500000</td>\n",
              "      <td>1.000000</td>\n",
              "      <td>2.000000</td>\n",
              "      <td>3.000000</td>\n",
              "      <td>3.00000</td>\n",
              "      <td>0.000000</td>\n",
              "      <td>...</td>\n",
              "      <td>2.000000</td>\n",
              "      <td>33.000000</td>\n",
              "      <td>3.000000</td>\n",
              "      <td>2.000000</td>\n",
              "      <td>1.000000</td>\n",
              "      <td>2.000000</td>\n",
              "      <td>1.000000</td>\n",
              "      <td>0.000000</td>\n",
              "      <td>1.000000</td>\n",
              "      <td>1.000000</td>\n",
              "    </tr>\n",
              "    <tr>\n",
              "      <th>75%</th>\n",
              "      <td>4.000000</td>\n",
              "      <td>18.000000</td>\n",
              "      <td>5.00000</td>\n",
              "      <td>4.000000</td>\n",
              "      <td>3972.250000</td>\n",
              "      <td>3.000000</td>\n",
              "      <td>4.000000</td>\n",
              "      <td>4.000000</td>\n",
              "      <td>3.00000</td>\n",
              "      <td>0.000000</td>\n",
              "      <td>...</td>\n",
              "      <td>3.000000</td>\n",
              "      <td>42.000000</td>\n",
              "      <td>3.000000</td>\n",
              "      <td>2.000000</td>\n",
              "      <td>2.000000</td>\n",
              "      <td>2.000000</td>\n",
              "      <td>1.000000</td>\n",
              "      <td>1.000000</td>\n",
              "      <td>1.000000</td>\n",
              "      <td>2.000000</td>\n",
              "    </tr>\n",
              "    <tr>\n",
              "      <th>max</th>\n",
              "      <td>4.000000</td>\n",
              "      <td>72.000000</td>\n",
              "      <td>5.00000</td>\n",
              "      <td>11.000000</td>\n",
              "      <td>18424.000000</td>\n",
              "      <td>5.000000</td>\n",
              "      <td>4.000000</td>\n",
              "      <td>4.000000</td>\n",
              "      <td>4.00000</td>\n",
              "      <td>2.000000</td>\n",
              "      <td>...</td>\n",
              "      <td>4.000000</td>\n",
              "      <td>75.000000</td>\n",
              "      <td>3.000000</td>\n",
              "      <td>3.000000</td>\n",
              "      <td>4.000000</td>\n",
              "      <td>3.000000</td>\n",
              "      <td>2.000000</td>\n",
              "      <td>1.000000</td>\n",
              "      <td>1.000000</td>\n",
              "      <td>2.000000</td>\n",
              "    </tr>\n",
              "  </tbody>\n",
              "</table>\n",
              "<p>8 rows × 21 columns</p>\n",
              "</div>\n",
              "      <button class=\"colab-df-convert\" onclick=\"convertToInteractive('df-50a9e921-ee85-4b32-b74e-96f98d28ec83')\"\n",
              "              title=\"Convert this dataframe to an interactive table.\"\n",
              "              style=\"display:none;\">\n",
              "        \n",
              "  <svg xmlns=\"http://www.w3.org/2000/svg\" height=\"24px\"viewBox=\"0 0 24 24\"\n",
              "       width=\"24px\">\n",
              "    <path d=\"M0 0h24v24H0V0z\" fill=\"none\"/>\n",
              "    <path d=\"M18.56 5.44l.94 2.06.94-2.06 2.06-.94-2.06-.94-.94-2.06-.94 2.06-2.06.94zm-11 1L8.5 8.5l.94-2.06 2.06-.94-2.06-.94L8.5 2.5l-.94 2.06-2.06.94zm10 10l.94 2.06.94-2.06 2.06-.94-2.06-.94-.94-2.06-.94 2.06-2.06.94z\"/><path d=\"M17.41 7.96l-1.37-1.37c-.4-.4-.92-.59-1.43-.59-.52 0-1.04.2-1.43.59L10.3 9.45l-7.72 7.72c-.78.78-.78 2.05 0 2.83L4 21.41c.39.39.9.59 1.41.59.51 0 1.02-.2 1.41-.59l7.78-7.78 2.81-2.81c.8-.78.8-2.07 0-2.86zM5.41 20L4 18.59l7.72-7.72 1.47 1.35L5.41 20z\"/>\n",
              "  </svg>\n",
              "      </button>\n",
              "      \n",
              "  <style>\n",
              "    .colab-df-container {\n",
              "      display:flex;\n",
              "      flex-wrap:wrap;\n",
              "      gap: 12px;\n",
              "    }\n",
              "\n",
              "    .colab-df-convert {\n",
              "      background-color: #E8F0FE;\n",
              "      border: none;\n",
              "      border-radius: 50%;\n",
              "      cursor: pointer;\n",
              "      display: none;\n",
              "      fill: #1967D2;\n",
              "      height: 32px;\n",
              "      padding: 0 0 0 0;\n",
              "      width: 32px;\n",
              "    }\n",
              "\n",
              "    .colab-df-convert:hover {\n",
              "      background-color: #E2EBFA;\n",
              "      box-shadow: 0px 1px 2px rgba(60, 64, 67, 0.3), 0px 1px 3px 1px rgba(60, 64, 67, 0.15);\n",
              "      fill: #174EA6;\n",
              "    }\n",
              "\n",
              "    [theme=dark] .colab-df-convert {\n",
              "      background-color: #3B4455;\n",
              "      fill: #D2E3FC;\n",
              "    }\n",
              "\n",
              "    [theme=dark] .colab-df-convert:hover {\n",
              "      background-color: #434B5C;\n",
              "      box-shadow: 0px 1px 3px 1px rgba(0, 0, 0, 0.15);\n",
              "      filter: drop-shadow(0px 1px 2px rgba(0, 0, 0, 0.3));\n",
              "      fill: #FFFFFF;\n",
              "    }\n",
              "  </style>\n",
              "\n",
              "      <script>\n",
              "        const buttonEl =\n",
              "          document.querySelector('#df-50a9e921-ee85-4b32-b74e-96f98d28ec83 button.colab-df-convert');\n",
              "        buttonEl.style.display =\n",
              "          google.colab.kernel.accessAllowed ? 'block' : 'none';\n",
              "\n",
              "        async function convertToInteractive(key) {\n",
              "          const element = document.querySelector('#df-50a9e921-ee85-4b32-b74e-96f98d28ec83');\n",
              "          const dataTable =\n",
              "            await google.colab.kernel.invokeFunction('convertToInteractive',\n",
              "                                                     [key], {});\n",
              "          if (!dataTable) return;\n",
              "\n",
              "          const docLinkHtml = 'Like what you see? Visit the ' +\n",
              "            '<a target=\"_blank\" href=https://colab.research.google.com/notebooks/data_table.ipynb>data table notebook</a>'\n",
              "            + ' to learn more about interactive tables.';\n",
              "          element.innerHTML = '';\n",
              "          dataTable['output_type'] = 'display_data';\n",
              "          await google.colab.output.renderOutput(dataTable, element);\n",
              "          const docLink = document.createElement('div');\n",
              "          docLink.innerHTML = docLinkHtml;\n",
              "          element.appendChild(docLink);\n",
              "        }\n",
              "      </script>\n",
              "    </div>\n",
              "  </div>\n",
              "  "
            ]
          },
          "metadata": {},
          "execution_count": 82
        }
      ],
      "source": [
        "dataset.describe()"
      ]
    },
    {
      "cell_type": "code",
      "execution_count": null,
      "metadata": {
        "id": "dH6rE8P9pw3n",
        "colab": {
          "base_uri": "https://localhost:8080/",
          "height": 300
        },
        "outputId": "e6600955-dae7-4692-8ae4-f102d181ec90"
      },
      "outputs": [
        {
          "output_type": "execute_result",
          "data": {
            "text/plain": [
              "   Status.of.existing.checking.account  Duration.in.month  Credit.history  \\\n",
              "0                                  1.0                6.0             5.0   \n",
              "1                                  2.0               48.0             3.0   \n",
              "2                                  4.0               12.0             5.0   \n",
              "3                                  1.0                2.0             3.0   \n",
              "4                                  1.0                4.0             4.0   \n",
              "\n",
              "   Purpose  Credit.amount  Savings.account.bonds  Present.employment.since  \\\n",
              "0      4.0         1169.0                    5.0                       4.0   \n",
              "1      4.0         5951.0                    1.0                       2.0   \n",
              "2      7.0         2096.0                    1.0                       3.0   \n",
              "3      3.0         7882.0                    1.0                       3.0   \n",
              "4      1.0         4870.0                    1.0                       2.0   \n",
              "\n",
              "   Installment.rate.in.percentage.of.disposable.income  \\\n",
              "0                                                4.0     \n",
              "1                                                2.0     \n",
              "2                                                2.0     \n",
              "3                                                2.0     \n",
              "4                                                3.0     \n",
              "\n",
              "   Personal.status.and.sex  Other.debtors.guarantors  ...  Property  \\\n",
              "0                      3.0                       0.0  ...       1.0   \n",
              "1                      2.0                       0.0  ...       1.0   \n",
              "2                      3.0                       0.0  ...       1.0   \n",
              "3                      3.0                       2.0  ...       2.0   \n",
              "4                      3.0                       0.0  ...       4.0   \n",
              "\n",
              "   Age.in.years  Other.installment.plans  Housing  \\\n",
              "0          67.0                      3.0      2.0   \n",
              "1          22.0                      3.0      2.0   \n",
              "2          49.0                      3.0      2.0   \n",
              "3          45.0                      3.0      3.0   \n",
              "4          53.0                      3.0      3.0   \n",
              "\n",
              "   Number.of.existing.credits.at.this.bank  Job  \\\n",
              "0                                      2.0  2.0   \n",
              "1                                      1.0  2.0   \n",
              "2                                      1.0  1.0   \n",
              "3                                      1.0  2.0   \n",
              "4                                      2.0  2.0   \n",
              "\n",
              "   Number.of.people.being.liable.to.provide.maintenance.for  Telephone  \\\n",
              "0                                                1.0               1.0   \n",
              "1                                                1.0               0.0   \n",
              "2                                                2.0               0.0   \n",
              "3                                                2.0               0.0   \n",
              "4                                                2.0               0.0   \n",
              "\n",
              "   foreign.worker  risk  \n",
              "0             1.0   1.0  \n",
              "1             1.0   2.0  \n",
              "2             1.0   1.0  \n",
              "3             1.0   1.0  \n",
              "4             1.0   2.0  \n",
              "\n",
              "[5 rows x 21 columns]"
            ],
            "text/html": [
              "\n",
              "  <div id=\"df-d4169982-6554-4d41-b86a-d0d89bf15888\">\n",
              "    <div class=\"colab-df-container\">\n",
              "      <div>\n",
              "<style scoped>\n",
              "    .dataframe tbody tr th:only-of-type {\n",
              "        vertical-align: middle;\n",
              "    }\n",
              "\n",
              "    .dataframe tbody tr th {\n",
              "        vertical-align: top;\n",
              "    }\n",
              "\n",
              "    .dataframe thead th {\n",
              "        text-align: right;\n",
              "    }\n",
              "</style>\n",
              "<table border=\"1\" class=\"dataframe\">\n",
              "  <thead>\n",
              "    <tr style=\"text-align: right;\">\n",
              "      <th></th>\n",
              "      <th>Status.of.existing.checking.account</th>\n",
              "      <th>Duration.in.month</th>\n",
              "      <th>Credit.history</th>\n",
              "      <th>Purpose</th>\n",
              "      <th>Credit.amount</th>\n",
              "      <th>Savings.account.bonds</th>\n",
              "      <th>Present.employment.since</th>\n",
              "      <th>Installment.rate.in.percentage.of.disposable.income</th>\n",
              "      <th>Personal.status.and.sex</th>\n",
              "      <th>Other.debtors.guarantors</th>\n",
              "      <th>...</th>\n",
              "      <th>Property</th>\n",
              "      <th>Age.in.years</th>\n",
              "      <th>Other.installment.plans</th>\n",
              "      <th>Housing</th>\n",
              "      <th>Number.of.existing.credits.at.this.bank</th>\n",
              "      <th>Job</th>\n",
              "      <th>Number.of.people.being.liable.to.provide.maintenance.for</th>\n",
              "      <th>Telephone</th>\n",
              "      <th>foreign.worker</th>\n",
              "      <th>risk</th>\n",
              "    </tr>\n",
              "  </thead>\n",
              "  <tbody>\n",
              "    <tr>\n",
              "      <th>0</th>\n",
              "      <td>1.0</td>\n",
              "      <td>6.0</td>\n",
              "      <td>5.0</td>\n",
              "      <td>4.0</td>\n",
              "      <td>1169.0</td>\n",
              "      <td>5.0</td>\n",
              "      <td>4.0</td>\n",
              "      <td>4.0</td>\n",
              "      <td>3.0</td>\n",
              "      <td>0.0</td>\n",
              "      <td>...</td>\n",
              "      <td>1.0</td>\n",
              "      <td>67.0</td>\n",
              "      <td>3.0</td>\n",
              "      <td>2.0</td>\n",
              "      <td>2.0</td>\n",
              "      <td>2.0</td>\n",
              "      <td>1.0</td>\n",
              "      <td>1.0</td>\n",
              "      <td>1.0</td>\n",
              "      <td>1.0</td>\n",
              "    </tr>\n",
              "    <tr>\n",
              "      <th>1</th>\n",
              "      <td>2.0</td>\n",
              "      <td>48.0</td>\n",
              "      <td>3.0</td>\n",
              "      <td>4.0</td>\n",
              "      <td>5951.0</td>\n",
              "      <td>1.0</td>\n",
              "      <td>2.0</td>\n",
              "      <td>2.0</td>\n",
              "      <td>2.0</td>\n",
              "      <td>0.0</td>\n",
              "      <td>...</td>\n",
              "      <td>1.0</td>\n",
              "      <td>22.0</td>\n",
              "      <td>3.0</td>\n",
              "      <td>2.0</td>\n",
              "      <td>1.0</td>\n",
              "      <td>2.0</td>\n",
              "      <td>1.0</td>\n",
              "      <td>0.0</td>\n",
              "      <td>1.0</td>\n",
              "      <td>2.0</td>\n",
              "    </tr>\n",
              "    <tr>\n",
              "      <th>2</th>\n",
              "      <td>4.0</td>\n",
              "      <td>12.0</td>\n",
              "      <td>5.0</td>\n",
              "      <td>7.0</td>\n",
              "      <td>2096.0</td>\n",
              "      <td>1.0</td>\n",
              "      <td>3.0</td>\n",
              "      <td>2.0</td>\n",
              "      <td>3.0</td>\n",
              "      <td>0.0</td>\n",
              "      <td>...</td>\n",
              "      <td>1.0</td>\n",
              "      <td>49.0</td>\n",
              "      <td>3.0</td>\n",
              "      <td>2.0</td>\n",
              "      <td>1.0</td>\n",
              "      <td>1.0</td>\n",
              "      <td>2.0</td>\n",
              "      <td>0.0</td>\n",
              "      <td>1.0</td>\n",
              "      <td>1.0</td>\n",
              "    </tr>\n",
              "    <tr>\n",
              "      <th>3</th>\n",
              "      <td>1.0</td>\n",
              "      <td>2.0</td>\n",
              "      <td>3.0</td>\n",
              "      <td>3.0</td>\n",
              "      <td>7882.0</td>\n",
              "      <td>1.0</td>\n",
              "      <td>3.0</td>\n",
              "      <td>2.0</td>\n",
              "      <td>3.0</td>\n",
              "      <td>2.0</td>\n",
              "      <td>...</td>\n",
              "      <td>2.0</td>\n",
              "      <td>45.0</td>\n",
              "      <td>3.0</td>\n",
              "      <td>3.0</td>\n",
              "      <td>1.0</td>\n",
              "      <td>2.0</td>\n",
              "      <td>2.0</td>\n",
              "      <td>0.0</td>\n",
              "      <td>1.0</td>\n",
              "      <td>1.0</td>\n",
              "    </tr>\n",
              "    <tr>\n",
              "      <th>4</th>\n",
              "      <td>1.0</td>\n",
              "      <td>4.0</td>\n",
              "      <td>4.0</td>\n",
              "      <td>1.0</td>\n",
              "      <td>4870.0</td>\n",
              "      <td>1.0</td>\n",
              "      <td>2.0</td>\n",
              "      <td>3.0</td>\n",
              "      <td>3.0</td>\n",
              "      <td>0.0</td>\n",
              "      <td>...</td>\n",
              "      <td>4.0</td>\n",
              "      <td>53.0</td>\n",
              "      <td>3.0</td>\n",
              "      <td>3.0</td>\n",
              "      <td>2.0</td>\n",
              "      <td>2.0</td>\n",
              "      <td>2.0</td>\n",
              "      <td>0.0</td>\n",
              "      <td>1.0</td>\n",
              "      <td>2.0</td>\n",
              "    </tr>\n",
              "  </tbody>\n",
              "</table>\n",
              "<p>5 rows × 21 columns</p>\n",
              "</div>\n",
              "      <button class=\"colab-df-convert\" onclick=\"convertToInteractive('df-d4169982-6554-4d41-b86a-d0d89bf15888')\"\n",
              "              title=\"Convert this dataframe to an interactive table.\"\n",
              "              style=\"display:none;\">\n",
              "        \n",
              "  <svg xmlns=\"http://www.w3.org/2000/svg\" height=\"24px\"viewBox=\"0 0 24 24\"\n",
              "       width=\"24px\">\n",
              "    <path d=\"M0 0h24v24H0V0z\" fill=\"none\"/>\n",
              "    <path d=\"M18.56 5.44l.94 2.06.94-2.06 2.06-.94-2.06-.94-.94-2.06-.94 2.06-2.06.94zm-11 1L8.5 8.5l.94-2.06 2.06-.94-2.06-.94L8.5 2.5l-.94 2.06-2.06.94zm10 10l.94 2.06.94-2.06 2.06-.94-2.06-.94-.94-2.06-.94 2.06-2.06.94z\"/><path d=\"M17.41 7.96l-1.37-1.37c-.4-.4-.92-.59-1.43-.59-.52 0-1.04.2-1.43.59L10.3 9.45l-7.72 7.72c-.78.78-.78 2.05 0 2.83L4 21.41c.39.39.9.59 1.41.59.51 0 1.02-.2 1.41-.59l7.78-7.78 2.81-2.81c.8-.78.8-2.07 0-2.86zM5.41 20L4 18.59l7.72-7.72 1.47 1.35L5.41 20z\"/>\n",
              "  </svg>\n",
              "      </button>\n",
              "      \n",
              "  <style>\n",
              "    .colab-df-container {\n",
              "      display:flex;\n",
              "      flex-wrap:wrap;\n",
              "      gap: 12px;\n",
              "    }\n",
              "\n",
              "    .colab-df-convert {\n",
              "      background-color: #E8F0FE;\n",
              "      border: none;\n",
              "      border-radius: 50%;\n",
              "      cursor: pointer;\n",
              "      display: none;\n",
              "      fill: #1967D2;\n",
              "      height: 32px;\n",
              "      padding: 0 0 0 0;\n",
              "      width: 32px;\n",
              "    }\n",
              "\n",
              "    .colab-df-convert:hover {\n",
              "      background-color: #E2EBFA;\n",
              "      box-shadow: 0px 1px 2px rgba(60, 64, 67, 0.3), 0px 1px 3px 1px rgba(60, 64, 67, 0.15);\n",
              "      fill: #174EA6;\n",
              "    }\n",
              "\n",
              "    [theme=dark] .colab-df-convert {\n",
              "      background-color: #3B4455;\n",
              "      fill: #D2E3FC;\n",
              "    }\n",
              "\n",
              "    [theme=dark] .colab-df-convert:hover {\n",
              "      background-color: #434B5C;\n",
              "      box-shadow: 0px 1px 3px 1px rgba(0, 0, 0, 0.15);\n",
              "      filter: drop-shadow(0px 1px 2px rgba(0, 0, 0, 0.3));\n",
              "      fill: #FFFFFF;\n",
              "    }\n",
              "  </style>\n",
              "\n",
              "      <script>\n",
              "        const buttonEl =\n",
              "          document.querySelector('#df-d4169982-6554-4d41-b86a-d0d89bf15888 button.colab-df-convert');\n",
              "        buttonEl.style.display =\n",
              "          google.colab.kernel.accessAllowed ? 'block' : 'none';\n",
              "\n",
              "        async function convertToInteractive(key) {\n",
              "          const element = document.querySelector('#df-d4169982-6554-4d41-b86a-d0d89bf15888');\n",
              "          const dataTable =\n",
              "            await google.colab.kernel.invokeFunction('convertToInteractive',\n",
              "                                                     [key], {});\n",
              "          if (!dataTable) return;\n",
              "\n",
              "          const docLinkHtml = 'Like what you see? Visit the ' +\n",
              "            '<a target=\"_blank\" href=https://colab.research.google.com/notebooks/data_table.ipynb>data table notebook</a>'\n",
              "            + ' to learn more about interactive tables.';\n",
              "          element.innerHTML = '';\n",
              "          dataTable['output_type'] = 'display_data';\n",
              "          await google.colab.output.renderOutput(dataTable, element);\n",
              "          const docLink = document.createElement('div');\n",
              "          docLink.innerHTML = docLinkHtml;\n",
              "          element.appendChild(docLink);\n",
              "        }\n",
              "      </script>\n",
              "    </div>\n",
              "  </div>\n",
              "  "
            ]
          },
          "metadata": {},
          "execution_count": 83
        }
      ],
      "source": [
        "dataset.head()"
      ]
    },
    {
      "cell_type": "markdown",
      "metadata": {
        "id": "eaUdsO3vtXjM"
      },
      "source": [
        "**Split Data into Training and Testing set**"
      ]
    },
    {
      "cell_type": "code",
      "execution_count": null,
      "metadata": {
        "id": "6oRfXmiOoBYJ"
      },
      "outputs": [],
      "source": [
        "X_train, X_test, y_train, y_test = train_test_split(X, y, test_size=0.30, random_state=42)"
      ]
    },
    {
      "cell_type": "code",
      "execution_count": null,
      "metadata": {
        "id": "yXup2p8CdGSX",
        "colab": {
          "base_uri": "https://localhost:8080/"
        },
        "outputId": "7b933a34-64d9-48d5-fad3-8f490878c123"
      },
      "outputs": [
        {
          "output_type": "stream",
          "name": "stdout",
          "text": [
            "Shape of  X training set: (700, 20)\n",
            "Shape of X test set: (300, 20)\n",
            "Shape of  y training set: (700,)\n",
            "Shape of y test set: (300,)\n"
          ]
        }
      ],
      "source": [
        "print(\"Shape of  X training set: \" + str(X_train.shape))\n",
        "print(\"Shape of X test set: \" + str(X_test.shape))\n",
        "\n",
        "print(\"Shape of  y training set: \" + str(y_train.shape))\n",
        "print(\"Shape of y test set: \" + str(y_test.shape))"
      ]
    },
    {
      "cell_type": "code",
      "execution_count": null,
      "metadata": {
        "id": "x_xVqb-HiYZA"
      },
      "outputs": [],
      "source": [
        "scaler = StandardScaler()\n",
        "X_train = scaler.fit_transform(X_train)\n",
        "X_test = scaler.transform(X_test)\n"
      ]
    },
    {
      "cell_type": "markdown",
      "metadata": {
        "id": "4Xxxe8w6HVT_"
      },
      "source": [
        "### Mutual Information\n",
        "\n",
        "How dependent is one variable on another. Statistical test to determine what attributes are most important for risk classification. Use this plus our EDA correlational test regarding risk."
      ]
    },
    {
      "cell_type": "code",
      "execution_count": null,
      "metadata": {
        "id": "HZqYMXK8OsEq",
        "colab": {
          "base_uri": "https://localhost:8080/",
          "height": 302
        },
        "outputId": "0a95ee77-66a7-405e-b80d-888540378e20"
      },
      "outputs": [
        {
          "output_type": "display_data",
          "data": {
            "text/plain": [
              "<Figure size 2016x72 with 1 Axes>"
            ],
            "image/png": "[encoded data removed]"
          },
          "metadata": {
            "needs_background": "light"
          }
        }
      ],
      "source": [
        "from sklearn.feature_selection import mutual_info_classif\n",
        "mutual_information = mutual_info_classif(X_train, y_train, n_neighbors=5, copy = True)\n",
        "\n",
        "plt.subplots(1, figsize=(28, 1))\n",
        "sns.heatmap(mutual_information[:, np.newaxis].T, cmap='Blues', cbar=False, linewidths=1, annot=True, annot_kws={\"size\": 12})\n",
        "plt.yticks([], [])\n",
        "plt.gca().set_xticklabels(X.columns, rotation=45, ha='right', fontsize=12)\n",
        "plt.suptitle(\"Variable Importance (mutual_info_classif)\", fontsize=12, y=1.2)\n",
        "plt.gcf().subplots_adjust(wspace=0.4)"
      ]
    },
    {
      "cell_type": "markdown",
      "metadata": {
        "id": "UYvODXMU00US"
      },
      "source": [
        "Use the most important variables in training set for Binary Classification Models"
      ]
    },
    {
      "cell_type": "code",
      "execution_count": null,
      "metadata": {
        "id": "pyZ8EpjZPGSw"
      },
      "outputs": [],
      "source": [
        "X_use = dataset[['Status.of.existing.checking.account','Duration.in.month','Credit.history','Credit.amount','Savings.account.bonds']]\n",
        "# split into training & test data\n",
        "Xuse_train, Xuse_test, y_train, y_test = train_test_split(X_use, y, test_size=0.30, random_state=0)\n",
        "# standardise input\n",
        "Xuse_train = scaler.fit_transform(Xuse_train)\n",
        "Xuse_test = scaler.transform(Xuse_test)"
      ]
    },
    {
      "cell_type": "markdown",
      "metadata": {
        "id": "H9ghgd1qP8Jd"
      },
      "source": [
        "### **Training Model**"
      ]
    },
    {
      "cell_type": "code",
      "execution_count": null,
      "metadata": {
        "id": "hWEgpqXlP_Tj"
      },
      "outputs": [],
      "source": [
        "def train_model(model,color):\n",
        "    m = model[1]\n",
        "    y_train_pred = cross_val_predict(model[1], Xuse_train, y_train, cv=None)\n",
        "    cm = confusion_matrix(y_train, y_train_pred)\n",
        "    print('Confusion matrix: ' + model[0])\n",
        "    print(cm)\n",
        "    print()\n",
        "    accuracy = accuracy_score(y_train, y_train_pred)\n",
        "    precision = precision_score(y_train, y_train_pred)\n",
        "    recall = recall_score(y_train, y_train_pred)\n",
        "    f1 = f1_score(y_train, y_train_pred)\n",
        "\n",
        "    df_model = [accuracy, precision, recall, f1]\n",
        "    df= pd.DataFrame(df_model,index=['Accuracy','Precision','Recall','F1 score'])\n",
        "    ax = df.plot.bar(rot=0,color=[color])\n",
        "\n",
        "    print(f'{model[0]} Accuracy: {accuracy}')\n",
        "    print(f'{model[0]} Precision: {precision}')\n",
        "    print(f'{model[0]} Recall: {recall}')\n",
        "    print(f'{model[0]} f1 - score: {f1}')\n",
        "    "
      ]
    },
    {
      "cell_type": "markdown",
      "metadata": {
        "id": "MpA23h8kJiga"
      },
      "source": [
        "### Model Performance indicators\n",
        "\n",
        "Accuracy: This dataset is imbalanced so accuracy is not a good measurement. In the following Models we are most likely to get high accuracy by predicting the majority class but would fail to predict the minority class, which is the defaulters. Hence, this is not a suitable metric for this dataset.\n",
        "\n",
        "**Precision**: Precision is a good metric when the costs of false positive is high\n",
        "\n",
        "Recall: This metric is suitable when the costs of false negative is high. Example, predicting a defulter as not defaulter. This costs huge loss for the bank. Hence, this is a suitable metric for our case.\n",
        "\n",
        "F1: measure of both precision and recall."
      ]
    },
    {
      "cell_type": "markdown",
      "metadata": {
        "id": "vjfMHVI-ijms"
      },
      "source": [
        "### Random Forest Classifier\n",
        "Estimator that fits a number of decision tree classifiers on various sub-samples of the dataset and uses averaging to improve the predictive accuracy and control over-fitting"
      ]
    },
    {
      "cell_type": "code",
      "execution_count": null,
      "metadata": {
        "id": "LxbXWiEKbp7X",
        "colab": {
          "base_uri": "https://localhost:8080/",
          "height": 408
        },
        "outputId": "5378af18-9c55-458e-a887-ff9df8adfb77"
      },
      "outputs": [
        {
          "output_type": "stream",
          "name": "stdout",
          "text": [
            "Confusion matrix: Random Forest\n",
            "[[418  68]\n",
            " [122  92]]\n",
            "\n",
            "Random Forest Accuracy: 0.7285714285714285\n",
            "Random Forest Precision: 0.774074074074074\n",
            "Random Forest Recall: 0.8600823045267489\n",
            "Random Forest f1 - score: 0.8148148148148148\n"
          ]
        },
        {
          "output_type": "display_data",
          "data": {
            "text/plain": [
              "<Figure size 432x288 with 1 Axes>"
            ],
            "image/png": "[encoded data removed]"
          },
          "metadata": {
            "needs_background": "light"
          }
        }
      ],
      "source": [
        "RF_Model= train_model(('Random Forest', RandomForestClassifier(n_estimators=100,random_state=0, min_samples_split=2,verbose=0)),'#E3CF57')"
      ]
    },
    {
      "cell_type": "markdown",
      "metadata": {
        "id": "K-l9A_vDio1Y"
      },
      "source": [
        "### Gaussian Naive Bayes\n",
        "A probabilistic classification algorithm based on applying Bayes' theorem with strong independence assumptions. \n",
        "\n",
        "Produces probability of risk or not risk given evidence in dataset(Bayes). Evidence are chosen attributes in dataset"
      ]
    },
    {
      "cell_type": "code",
      "execution_count": null,
      "metadata": {
        "id": "AJChlJ1Tc-5E",
        "colab": {
          "base_uri": "https://localhost:8080/",
          "height": 408
        },
        "outputId": "928c6b4b-ae4b-44be-c65d-234170ae61e0"
      },
      "outputs": [
        {
          "output_type": "stream",
          "name": "stdout",
          "text": [
            "Confusion matrix: Gaussian Naive Bayes\n",
            "[[433  53]\n",
            " [126  88]]\n",
            "\n",
            "Gaussian Naive Bayes Accuracy: 0.7442857142857143\n",
            "Gaussian Naive Bayes Precision: 0.774597495527728\n",
            "Gaussian Naive Bayes Recall: 0.8909465020576132\n",
            "Gaussian Naive Bayes f1 - score: 0.8287081339712918\n"
          ]
        },
        {
          "output_type": "display_data",
          "data": {
            "text/plain": [
              "<Figure size 432x288 with 1 Axes>"
            ],
            "image/png": "[encoded data removed]"
          },
          "metadata": {
            "needs_background": "light"
          }
        }
      ],
      "source": [
        "GVB_Model= train_model(('Gaussian Naive Bayes', GaussianNB()),'#F0F8FF')"
      ]
    },
    {
      "cell_type": "markdown",
      "metadata": {
        "id": "aYfJaeUQitq6"
      },
      "source": [
        "### Logistic Regression\n",
        "Classifier testing probability of binary meausure, in our case risk or not risk. Good if not too many predictor variable as Logistic regression is prone to overfitting."
      ]
    },
    {
      "cell_type": "code",
      "execution_count": null,
      "metadata": {
        "id": "lt11ORiFhmnW",
        "colab": {
          "base_uri": "https://localhost:8080/",
          "height": 408
        },
        "outputId": "660f227c-25db-4c22-d346-c3546aab3f65"
      },
      "outputs": [
        {
          "output_type": "stream",
          "name": "stdout",
          "text": [
            "Confusion matrix: Logistic Regression\n",
            "[[426  60]\n",
            " [120  94]]\n",
            "\n",
            "Logistic Regression Accuracy: 0.7428571428571429\n",
            "Logistic Regression Precision: 0.7802197802197802\n",
            "Logistic Regression Recall: 0.8765432098765432\n",
            "Logistic Regression f1 - score: 0.8255813953488372\n"
          ]
        },
        {
          "output_type": "display_data",
          "data": {
            "text/plain": [
              "<Figure size 432x288 with 1 Axes>"
            ],
            "image/png": "[encoded data removed]"
          },
          "metadata": {
            "needs_background": "light"
          }
        }
      ],
      "source": [
        "LR_Model= train_model(('Logistic Regression',LogisticRegression()),'#000000')"
      ]
    },
    {
      "cell_type": "markdown",
      "metadata": {
        "id": "VV0slIbXiw3J"
      },
      "source": [
        "### Decision Tree Classifier\n",
        "The goal of using a Decision Tree is to create a training model that can use the training set to predict the class, or risk or not risky, by learning simple decision rules inferred from our dataset."
      ]
    },
    {
      "cell_type": "code",
      "execution_count": null,
      "metadata": {
        "id": "CiFNkCJniESU",
        "colab": {
          "base_uri": "https://localhost:8080/",
          "height": 408
        },
        "outputId": "87b08f08-02db-4bc9-a0d2-397587ca7a3c"
      },
      "outputs": [
        {
          "output_type": "stream",
          "name": "stdout",
          "text": [
            "Confusion matrix: Decision Tree Classifier\n",
            "[[368 118]\n",
            " [118  96]]\n",
            "\n",
            "Decision Tree Classifier Accuracy: 0.6628571428571428\n",
            "Decision Tree Classifier Precision: 0.757201646090535\n",
            "Decision Tree Classifier Recall: 0.757201646090535\n",
            "Decision Tree Classifier f1 - score: 0.757201646090535\n"
          ]
        },
        {
          "output_type": "display_data",
          "data": {
            "text/plain": [
              "<Figure size 432x288 with 1 Axes>"
            ],
            "image/png": "[encoded data removed]"
          },
          "metadata": {
            "needs_background": "light"
          }
        }
      ],
      "source": [
        "DCT_Model= train_model(('Decision Tree Classifier',DecisionTreeClassifier(criterion='gini',random_state=21)),'#EE3B3B')"
      ]
    },
    {
      "cell_type": "markdown",
      "metadata": {
        "id": "004uyJ5GkdLf"
      },
      "source": [
        "### Support Vector Machine"
      ]
    },
    {
      "cell_type": "code",
      "execution_count": null,
      "metadata": {
        "id": "vIl5pLkLj7Y_",
        "colab": {
          "base_uri": "https://localhost:8080/",
          "height": 408
        },
        "outputId": "92b5fcd4-99f6-48d0-9bdc-7555234dab97"
      },
      "outputs": [
        {
          "output_type": "stream",
          "name": "stdout",
          "text": [
            "Confusion matrix: Support Vector Machines\n",
            "[[462  24]\n",
            " [147  67]]\n",
            "\n",
            "Support Vector Machines Accuracy: 0.7557142857142857\n",
            "Support Vector Machines Precision: 0.7586206896551724\n",
            "Support Vector Machines Recall: 0.9506172839506173\n",
            "Support Vector Machines f1 - score: 0.8438356164383561\n"
          ]
        },
        {
          "output_type": "display_data",
          "data": {
            "text/plain": [
              "<Figure size 432x288 with 1 Axes>"
            ],
            "image/png": "[encoded data removed]"
          },
          "metadata": {
            "needs_background": "light"
          }
        }
      ],
      "source": [
        "SVM_Model= train_model(('Support Vector Machines',SVC(kernel='rbf')),'#458B00')"
      ]
    },
    {
      "cell_type": "markdown",
      "metadata": {
        "id": "lOWCc32Pkgvw"
      },
      "source": [
        "### K Neighbors Classifier"
      ]
    },
    {
      "cell_type": "code",
      "execution_count": null,
      "metadata": {
        "id": "fJFSCk2fkLt9",
        "colab": {
          "base_uri": "https://localhost:8080/",
          "height": 408
        },
        "outputId": "401a939b-7f47-43e1-e433-23075226610c"
      },
      "outputs": [
        {
          "output_type": "stream",
          "name": "stdout",
          "text": [
            "Confusion matrix: K-Nearest Neighbor\n",
            "[[417  69]\n",
            " [116  98]]\n",
            "\n",
            "K-Nearest Neighbor Accuracy: 0.7357142857142858\n",
            "K-Nearest Neighbor Precision: 0.7823639774859287\n",
            "K-Nearest Neighbor Recall: 0.8580246913580247\n",
            "K-Nearest Neighbor f1 - score: 0.8184494602551522\n"
          ]
        },
        {
          "output_type": "display_data",
          "data": {
            "text/plain": [
              "<Figure size 432x288 with 1 Axes>"
            ],
            "image/png": "[encoded data removed]"
          },
          "metadata": {
            "needs_background": "light"
          }
        }
      ],
      "source": [
        "K_Model= train_model(('K-Nearest Neighbor',KNeighborsClassifier()),'#9932CC')"
      ]
    },
    {
      "cell_type": "markdown",
      "metadata": {
        "id": "RSEmtaZwkktZ"
      },
      "source": [
        "### Gradient Boosting Classifier"
      ]
    },
    {
      "cell_type": "code",
      "execution_count": null,
      "metadata": {
        "id": "zenp5DkZkUan",
        "colab": {
          "base_uri": "https://localhost:8080/",
          "height": 408
        },
        "outputId": "93ee5730-ae6b-4f6e-f288-e128aa0c6d7d"
      },
      "outputs": [
        {
          "output_type": "stream",
          "name": "stdout",
          "text": [
            "Confusion matrix: Gradient Boosting\n",
            "[[429  57]\n",
            " [118  96]]\n",
            "\n",
            "Gradient Boosting Accuracy: 0.75\n",
            "Gradient Boosting Precision: 0.7842778793418648\n",
            "Gradient Boosting Recall: 0.8827160493827161\n",
            "Gradient Boosting f1 - score: 0.8305905130687319\n"
          ]
        },
        {
          "output_type": "display_data",
          "data": {
            "text/plain": [
              "<Figure size 432x288 with 1 Axes>"
            ],
            "image/png": "[encoded data removed]"
          },
          "metadata": {
            "needs_background": "light"
          }
        }
      ],
      "source": [
        "GBC_model=train_model(('Gradient Boosting',GradientBoostingClassifier()),'#FFFAF0')"
      ]
    },
    {
      "cell_type": "markdown",
      "metadata": {
        "id": "Pwdn_p3CLZYx"
      },
      "source": [
        "# **Deployment & Final Conclusions**\n",
        "\n",
        "From the exploration of this dataset regarding attributes:\n",
        "\n",
        "\n",
        "**Status of existing checking account(negative)**\n",
        "\n",
        "\n",
        "*   Surprisingly in our training set, applicants with lower checking status are risk free \n",
        "*   This may be due to 'no checking account' subcategory being recoded as high value in our re-categorization.\n",
        "\n",
        "\n",
        "\n",
        "**Duration in month(positive)**\n",
        "*   Applicants requesting higher number of months for credit are high risk \n",
        "\n",
        "**Credit history(negative)**\n",
        "\n",
        "\n",
        "*   Applicants with good credit history, meaning consistently paid back dues on time are not high risk\n",
        "\n",
        "\n",
        "\n",
        "**Credit amount(positive)**\n",
        "\n",
        "\n",
        "*   Applicants with higher credit amounts are high risk\n",
        "\n",
        "\n",
        "\n",
        "**Savings account/bonds(negative)**\n",
        "\n",
        "\n",
        "*   Again surprisingly in our training set, applicants with less savings or bond investments are low risk has in training set, the \n",
        "*   This may be due to unknown / no savings account being recoded as a high value in our re-categorization.\n",
        "\n",
        "\n"
      ]
    }
  ],
  "metadata": {
    "accelerator": "GPU",
    "colab": {
      "provenance": [],
      "include_colab_link": true
    },
    "gpuClass": "standard",
    "kernelspec": {
      "display_name": "Python 3",
      "name": "python3"
    },
    "language_info": {
      "codemirror_mode": {
        "name": "ipython",
        "version": 3
      },
      "file_extension": ".py",
      "mimetype": "text/x-python",
      "name": "python",
      "nbconvert_exporter": "python",
      "pygments_lexer": "ipython3",
      "version": "3.7.3"
    },
    "nav_menu": {},
    "toc": {
      "navigate_menu": true,
      "number_sections": true,
      "sideBar": true,
      "threshold": 6,
      "toc_cell": false,
      "toc_section_display": "block",
      "toc_window_display": false
    }
  },
  "nbformat": 4,
  "nbformat_minor": 0
}